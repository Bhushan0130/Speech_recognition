{
  "nbformat": 4,
  "nbformat_minor": 0,
  "metadata": {
    "colab": {
      "provenance": [],
      "gpuType": "T4"
    },
    "kernelspec": {
      "name": "python3",
      "display_name": "Python 3"
    },
    "language_info": {
      "name": "python"
    },
    "accelerator": "GPU"
  },
  "cells": [
    {
      "cell_type": "markdown",
      "source": [
        "# Email Classification (SPAM/HAM) by using BERT(Bidirectional Encoder Representations)"
      ],
      "metadata": {
        "id": "QkE-jCJxKChg"
      }
    },
    {
      "cell_type": "code",
      "source": [],
      "metadata": {
        "id": "67LsSYD8JtY9"
      },
      "execution_count": null,
      "outputs": []
    },
    {
      "cell_type": "code",
      "source": [
        "import pandas as pd\n",
        "import numpy as np\n",
        "import matplotlib.pyplot as plt\n",
        "import seaborn as sns"
      ],
      "metadata": {
        "id": "b0QhNwa3JthL"
      },
      "execution_count": 50,
      "outputs": []
    },
    {
      "cell_type": "code",
      "source": [
        "df = pd.read_csv('https://raw.githubusercontent.com/Bhushan0130/Datasets/main/spam.csv', encoding='ISO-8859-1')\n",
        "df.drop(columns = ['Unnamed: 2', 'Unnamed: 3', 'Unnamed: 4'], inplace = True)"
      ],
      "metadata": {
        "id": "UQcic61ji5Af"
      },
      "execution_count": 2,
      "outputs": []
    },
    {
      "cell_type": "code",
      "source": [
        "df.head()"
      ],
      "metadata": {
        "colab": {
          "base_uri": "https://localhost:8080/",
          "height": 206
        },
        "id": "FT41Yrdfi9ta",
        "outputId": "4cb4974b-47d1-4615-92f2-98c824a7d95c"
      },
      "execution_count": 3,
      "outputs": [
        {
          "output_type": "execute_result",
          "data": {
            "text/plain": [
              "     v1                                                 v2\n",
              "0   ham  Go until jurong point, crazy.. Available only ...\n",
              "1   ham                      Ok lar... Joking wif u oni...\n",
              "2  spam  Free entry in 2 a wkly comp to win FA Cup fina...\n",
              "3   ham  U dun say so early hor... U c already then say...\n",
              "4   ham  Nah I don't think he goes to usf, he lives aro..."
            ],
            "text/html": [
              "\n",
              "  <div id=\"df-f7324043-bccd-4e58-b869-3216b7ae44bc\" class=\"colab-df-container\">\n",
              "    <div>\n",
              "<style scoped>\n",
              "    .dataframe tbody tr th:only-of-type {\n",
              "        vertical-align: middle;\n",
              "    }\n",
              "\n",
              "    .dataframe tbody tr th {\n",
              "        vertical-align: top;\n",
              "    }\n",
              "\n",
              "    .dataframe thead th {\n",
              "        text-align: right;\n",
              "    }\n",
              "</style>\n",
              "<table border=\"1\" class=\"dataframe\">\n",
              "  <thead>\n",
              "    <tr style=\"text-align: right;\">\n",
              "      <th></th>\n",
              "      <th>v1</th>\n",
              "      <th>v2</th>\n",
              "    </tr>\n",
              "  </thead>\n",
              "  <tbody>\n",
              "    <tr>\n",
              "      <th>0</th>\n",
              "      <td>ham</td>\n",
              "      <td>Go until jurong point, crazy.. Available only ...</td>\n",
              "    </tr>\n",
              "    <tr>\n",
              "      <th>1</th>\n",
              "      <td>ham</td>\n",
              "      <td>Ok lar... Joking wif u oni...</td>\n",
              "    </tr>\n",
              "    <tr>\n",
              "      <th>2</th>\n",
              "      <td>spam</td>\n",
              "      <td>Free entry in 2 a wkly comp to win FA Cup fina...</td>\n",
              "    </tr>\n",
              "    <tr>\n",
              "      <th>3</th>\n",
              "      <td>ham</td>\n",
              "      <td>U dun say so early hor... U c already then say...</td>\n",
              "    </tr>\n",
              "    <tr>\n",
              "      <th>4</th>\n",
              "      <td>ham</td>\n",
              "      <td>Nah I don't think he goes to usf, he lives aro...</td>\n",
              "    </tr>\n",
              "  </tbody>\n",
              "</table>\n",
              "</div>\n",
              "    <div class=\"colab-df-buttons\">\n",
              "\n",
              "  <div class=\"colab-df-container\">\n",
              "    <button class=\"colab-df-convert\" onclick=\"convertToInteractive('df-f7324043-bccd-4e58-b869-3216b7ae44bc')\"\n",
              "            title=\"Convert this dataframe to an interactive table.\"\n",
              "            style=\"display:none;\">\n",
              "\n",
              "  <svg xmlns=\"http://www.w3.org/2000/svg\" height=\"24px\" viewBox=\"0 -960 960 960\">\n",
              "    <path d=\"M120-120v-720h720v720H120Zm60-500h600v-160H180v160Zm220 220h160v-160H400v160Zm0 220h160v-160H400v160ZM180-400h160v-160H180v160Zm440 0h160v-160H620v160ZM180-180h160v-160H180v160Zm440 0h160v-160H620v160Z\"/>\n",
              "  </svg>\n",
              "    </button>\n",
              "\n",
              "  <style>\n",
              "    .colab-df-container {\n",
              "      display:flex;\n",
              "      gap: 12px;\n",
              "    }\n",
              "\n",
              "    .colab-df-convert {\n",
              "      background-color: #E8F0FE;\n",
              "      border: none;\n",
              "      border-radius: 50%;\n",
              "      cursor: pointer;\n",
              "      display: none;\n",
              "      fill: #1967D2;\n",
              "      height: 32px;\n",
              "      padding: 0 0 0 0;\n",
              "      width: 32px;\n",
              "    }\n",
              "\n",
              "    .colab-df-convert:hover {\n",
              "      background-color: #E2EBFA;\n",
              "      box-shadow: 0px 1px 2px rgba(60, 64, 67, 0.3), 0px 1px 3px 1px rgba(60, 64, 67, 0.15);\n",
              "      fill: #174EA6;\n",
              "    }\n",
              "\n",
              "    .colab-df-buttons div {\n",
              "      margin-bottom: 4px;\n",
              "    }\n",
              "\n",
              "    [theme=dark] .colab-df-convert {\n",
              "      background-color: #3B4455;\n",
              "      fill: #D2E3FC;\n",
              "    }\n",
              "\n",
              "    [theme=dark] .colab-df-convert:hover {\n",
              "      background-color: #434B5C;\n",
              "      box-shadow: 0px 1px 3px 1px rgba(0, 0, 0, 0.15);\n",
              "      filter: drop-shadow(0px 1px 2px rgba(0, 0, 0, 0.3));\n",
              "      fill: #FFFFFF;\n",
              "    }\n",
              "  </style>\n",
              "\n",
              "    <script>\n",
              "      const buttonEl =\n",
              "        document.querySelector('#df-f7324043-bccd-4e58-b869-3216b7ae44bc button.colab-df-convert');\n",
              "      buttonEl.style.display =\n",
              "        google.colab.kernel.accessAllowed ? 'block' : 'none';\n",
              "\n",
              "      async function convertToInteractive(key) {\n",
              "        const element = document.querySelector('#df-f7324043-bccd-4e58-b869-3216b7ae44bc');\n",
              "        const dataTable =\n",
              "          await google.colab.kernel.invokeFunction('convertToInteractive',\n",
              "                                                    [key], {});\n",
              "        if (!dataTable) return;\n",
              "\n",
              "        const docLinkHtml = 'Like what you see? Visit the ' +\n",
              "          '<a target=\"_blank\" href=https://colab.research.google.com/notebooks/data_table.ipynb>data table notebook</a>'\n",
              "          + ' to learn more about interactive tables.';\n",
              "        element.innerHTML = '';\n",
              "        dataTable['output_type'] = 'display_data';\n",
              "        await google.colab.output.renderOutput(dataTable, element);\n",
              "        const docLink = document.createElement('div');\n",
              "        docLink.innerHTML = docLinkHtml;\n",
              "        element.appendChild(docLink);\n",
              "      }\n",
              "    </script>\n",
              "  </div>\n",
              "\n",
              "\n",
              "<div id=\"df-4fcb2b9a-4ee8-4171-8692-fa00c3763c2c\">\n",
              "  <button class=\"colab-df-quickchart\" onclick=\"quickchart('df-4fcb2b9a-4ee8-4171-8692-fa00c3763c2c')\"\n",
              "            title=\"Suggest charts.\"\n",
              "            style=\"display:none;\">\n",
              "\n",
              "<svg xmlns=\"http://www.w3.org/2000/svg\" height=\"24px\"viewBox=\"0 0 24 24\"\n",
              "     width=\"24px\">\n",
              "    <g>\n",
              "        <path d=\"M19 3H5c-1.1 0-2 .9-2 2v14c0 1.1.9 2 2 2h14c1.1 0 2-.9 2-2V5c0-1.1-.9-2-2-2zM9 17H7v-7h2v7zm4 0h-2V7h2v10zm4 0h-2v-4h2v4z\"/>\n",
              "    </g>\n",
              "</svg>\n",
              "  </button>\n",
              "\n",
              "<style>\n",
              "  .colab-df-quickchart {\n",
              "      --bg-color: #E8F0FE;\n",
              "      --fill-color: #1967D2;\n",
              "      --hover-bg-color: #E2EBFA;\n",
              "      --hover-fill-color: #174EA6;\n",
              "      --disabled-fill-color: #AAA;\n",
              "      --disabled-bg-color: #DDD;\n",
              "  }\n",
              "\n",
              "  [theme=dark] .colab-df-quickchart {\n",
              "      --bg-color: #3B4455;\n",
              "      --fill-color: #D2E3FC;\n",
              "      --hover-bg-color: #434B5C;\n",
              "      --hover-fill-color: #FFFFFF;\n",
              "      --disabled-bg-color: #3B4455;\n",
              "      --disabled-fill-color: #666;\n",
              "  }\n",
              "\n",
              "  .colab-df-quickchart {\n",
              "    background-color: var(--bg-color);\n",
              "    border: none;\n",
              "    border-radius: 50%;\n",
              "    cursor: pointer;\n",
              "    display: none;\n",
              "    fill: var(--fill-color);\n",
              "    height: 32px;\n",
              "    padding: 0;\n",
              "    width: 32px;\n",
              "  }\n",
              "\n",
              "  .colab-df-quickchart:hover {\n",
              "    background-color: var(--hover-bg-color);\n",
              "    box-shadow: 0 1px 2px rgba(60, 64, 67, 0.3), 0 1px 3px 1px rgba(60, 64, 67, 0.15);\n",
              "    fill: var(--button-hover-fill-color);\n",
              "  }\n",
              "\n",
              "  .colab-df-quickchart-complete:disabled,\n",
              "  .colab-df-quickchart-complete:disabled:hover {\n",
              "    background-color: var(--disabled-bg-color);\n",
              "    fill: var(--disabled-fill-color);\n",
              "    box-shadow: none;\n",
              "  }\n",
              "\n",
              "  .colab-df-spinner {\n",
              "    border: 2px solid var(--fill-color);\n",
              "    border-color: transparent;\n",
              "    border-bottom-color: var(--fill-color);\n",
              "    animation:\n",
              "      spin 1s steps(1) infinite;\n",
              "  }\n",
              "\n",
              "  @keyframes spin {\n",
              "    0% {\n",
              "      border-color: transparent;\n",
              "      border-bottom-color: var(--fill-color);\n",
              "      border-left-color: var(--fill-color);\n",
              "    }\n",
              "    20% {\n",
              "      border-color: transparent;\n",
              "      border-left-color: var(--fill-color);\n",
              "      border-top-color: var(--fill-color);\n",
              "    }\n",
              "    30% {\n",
              "      border-color: transparent;\n",
              "      border-left-color: var(--fill-color);\n",
              "      border-top-color: var(--fill-color);\n",
              "      border-right-color: var(--fill-color);\n",
              "    }\n",
              "    40% {\n",
              "      border-color: transparent;\n",
              "      border-right-color: var(--fill-color);\n",
              "      border-top-color: var(--fill-color);\n",
              "    }\n",
              "    60% {\n",
              "      border-color: transparent;\n",
              "      border-right-color: var(--fill-color);\n",
              "    }\n",
              "    80% {\n",
              "      border-color: transparent;\n",
              "      border-right-color: var(--fill-color);\n",
              "      border-bottom-color: var(--fill-color);\n",
              "    }\n",
              "    90% {\n",
              "      border-color: transparent;\n",
              "      border-bottom-color: var(--fill-color);\n",
              "    }\n",
              "  }\n",
              "</style>\n",
              "\n",
              "  <script>\n",
              "    async function quickchart(key) {\n",
              "      const quickchartButtonEl =\n",
              "        document.querySelector('#' + key + ' button');\n",
              "      quickchartButtonEl.disabled = true;  // To prevent multiple clicks.\n",
              "      quickchartButtonEl.classList.add('colab-df-spinner');\n",
              "      try {\n",
              "        const charts = await google.colab.kernel.invokeFunction(\n",
              "            'suggestCharts', [key], {});\n",
              "      } catch (error) {\n",
              "        console.error('Error during call to suggestCharts:', error);\n",
              "      }\n",
              "      quickchartButtonEl.classList.remove('colab-df-spinner');\n",
              "      quickchartButtonEl.classList.add('colab-df-quickchart-complete');\n",
              "    }\n",
              "    (() => {\n",
              "      let quickchartButtonEl =\n",
              "        document.querySelector('#df-4fcb2b9a-4ee8-4171-8692-fa00c3763c2c button');\n",
              "      quickchartButtonEl.style.display =\n",
              "        google.colab.kernel.accessAllowed ? 'block' : 'none';\n",
              "    })();\n",
              "  </script>\n",
              "</div>\n",
              "    </div>\n",
              "  </div>\n"
            ]
          },
          "metadata": {},
          "execution_count": 3
        }
      ]
    },
    {
      "cell_type": "code",
      "source": [
        "# !pip install tensorflow_text"
      ],
      "metadata": {
        "id": "9fi7wGYcoAQC"
      },
      "execution_count": 8,
      "outputs": []
    },
    {
      "cell_type": "code",
      "source": [
        "import tensorflow as tf\n",
        "import tensorflow_hub as hub\n",
        "import tensorflow_text as text"
      ],
      "metadata": {
        "id": "PQ8UXQYJi_Cm"
      },
      "execution_count": 7,
      "outputs": []
    },
    {
      "cell_type": "code",
      "source": [],
      "metadata": {
        "id": "2h-e7-eIjF6K"
      },
      "execution_count": 6,
      "outputs": []
    },
    {
      "cell_type": "code",
      "source": [
        "df['v1'].value_counts()"
      ],
      "metadata": {
        "colab": {
          "base_uri": "https://localhost:8080/"
        },
        "id": "SPSdzUXJjN8n",
        "outputId": "4fd795eb-576a-4449-c436-607ed797ff58"
      },
      "execution_count": 9,
      "outputs": [
        {
          "output_type": "execute_result",
          "data": {
            "text/plain": [
              "ham     4825\n",
              "spam     747\n",
              "Name: v1, dtype: int64"
            ]
          },
          "metadata": {},
          "execution_count": 9
        }
      ]
    },
    {
      "cell_type": "code",
      "source": [
        "df.groupby('v1').describe()"
      ],
      "metadata": {
        "colab": {
          "base_uri": "https://localhost:8080/",
          "height": 175
        },
        "id": "vzuk7glujc7E",
        "outputId": "c552808e-37fe-45ee-8213-0a49223168a8"
      },
      "execution_count": 10,
      "outputs": [
        {
          "output_type": "execute_result",
          "data": {
            "text/plain": [
              "        v2                                                               \n",
              "     count unique                                                top freq\n",
              "v1                                                                       \n",
              "ham   4825   4516                             Sorry, I'll call later   30\n",
              "spam   747    653  Please call our customer service representativ...    4"
            ],
            "text/html": [
              "\n",
              "  <div id=\"df-5cc571f5-3a9a-470d-a24a-dbfa9016c93e\" class=\"colab-df-container\">\n",
              "    <div>\n",
              "<style scoped>\n",
              "    .dataframe tbody tr th:only-of-type {\n",
              "        vertical-align: middle;\n",
              "    }\n",
              "\n",
              "    .dataframe tbody tr th {\n",
              "        vertical-align: top;\n",
              "    }\n",
              "\n",
              "    .dataframe thead tr th {\n",
              "        text-align: left;\n",
              "    }\n",
              "\n",
              "    .dataframe thead tr:last-of-type th {\n",
              "        text-align: right;\n",
              "    }\n",
              "</style>\n",
              "<table border=\"1\" class=\"dataframe\">\n",
              "  <thead>\n",
              "    <tr>\n",
              "      <th></th>\n",
              "      <th colspan=\"4\" halign=\"left\">v2</th>\n",
              "    </tr>\n",
              "    <tr>\n",
              "      <th></th>\n",
              "      <th>count</th>\n",
              "      <th>unique</th>\n",
              "      <th>top</th>\n",
              "      <th>freq</th>\n",
              "    </tr>\n",
              "    <tr>\n",
              "      <th>v1</th>\n",
              "      <th></th>\n",
              "      <th></th>\n",
              "      <th></th>\n",
              "      <th></th>\n",
              "    </tr>\n",
              "  </thead>\n",
              "  <tbody>\n",
              "    <tr>\n",
              "      <th>ham</th>\n",
              "      <td>4825</td>\n",
              "      <td>4516</td>\n",
              "      <td>Sorry, I'll call later</td>\n",
              "      <td>30</td>\n",
              "    </tr>\n",
              "    <tr>\n",
              "      <th>spam</th>\n",
              "      <td>747</td>\n",
              "      <td>653</td>\n",
              "      <td>Please call our customer service representativ...</td>\n",
              "      <td>4</td>\n",
              "    </tr>\n",
              "  </tbody>\n",
              "</table>\n",
              "</div>\n",
              "    <div class=\"colab-df-buttons\">\n",
              "\n",
              "  <div class=\"colab-df-container\">\n",
              "    <button class=\"colab-df-convert\" onclick=\"convertToInteractive('df-5cc571f5-3a9a-470d-a24a-dbfa9016c93e')\"\n",
              "            title=\"Convert this dataframe to an interactive table.\"\n",
              "            style=\"display:none;\">\n",
              "\n",
              "  <svg xmlns=\"http://www.w3.org/2000/svg\" height=\"24px\" viewBox=\"0 -960 960 960\">\n",
              "    <path d=\"M120-120v-720h720v720H120Zm60-500h600v-160H180v160Zm220 220h160v-160H400v160Zm0 220h160v-160H400v160ZM180-400h160v-160H180v160Zm440 0h160v-160H620v160ZM180-180h160v-160H180v160Zm440 0h160v-160H620v160Z\"/>\n",
              "  </svg>\n",
              "    </button>\n",
              "\n",
              "  <style>\n",
              "    .colab-df-container {\n",
              "      display:flex;\n",
              "      gap: 12px;\n",
              "    }\n",
              "\n",
              "    .colab-df-convert {\n",
              "      background-color: #E8F0FE;\n",
              "      border: none;\n",
              "      border-radius: 50%;\n",
              "      cursor: pointer;\n",
              "      display: none;\n",
              "      fill: #1967D2;\n",
              "      height: 32px;\n",
              "      padding: 0 0 0 0;\n",
              "      width: 32px;\n",
              "    }\n",
              "\n",
              "    .colab-df-convert:hover {\n",
              "      background-color: #E2EBFA;\n",
              "      box-shadow: 0px 1px 2px rgba(60, 64, 67, 0.3), 0px 1px 3px 1px rgba(60, 64, 67, 0.15);\n",
              "      fill: #174EA6;\n",
              "    }\n",
              "\n",
              "    .colab-df-buttons div {\n",
              "      margin-bottom: 4px;\n",
              "    }\n",
              "\n",
              "    [theme=dark] .colab-df-convert {\n",
              "      background-color: #3B4455;\n",
              "      fill: #D2E3FC;\n",
              "    }\n",
              "\n",
              "    [theme=dark] .colab-df-convert:hover {\n",
              "      background-color: #434B5C;\n",
              "      box-shadow: 0px 1px 3px 1px rgba(0, 0, 0, 0.15);\n",
              "      filter: drop-shadow(0px 1px 2px rgba(0, 0, 0, 0.3));\n",
              "      fill: #FFFFFF;\n",
              "    }\n",
              "  </style>\n",
              "\n",
              "    <script>\n",
              "      const buttonEl =\n",
              "        document.querySelector('#df-5cc571f5-3a9a-470d-a24a-dbfa9016c93e button.colab-df-convert');\n",
              "      buttonEl.style.display =\n",
              "        google.colab.kernel.accessAllowed ? 'block' : 'none';\n",
              "\n",
              "      async function convertToInteractive(key) {\n",
              "        const element = document.querySelector('#df-5cc571f5-3a9a-470d-a24a-dbfa9016c93e');\n",
              "        const dataTable =\n",
              "          await google.colab.kernel.invokeFunction('convertToInteractive',\n",
              "                                                    [key], {});\n",
              "        if (!dataTable) return;\n",
              "\n",
              "        const docLinkHtml = 'Like what you see? Visit the ' +\n",
              "          '<a target=\"_blank\" href=https://colab.research.google.com/notebooks/data_table.ipynb>data table notebook</a>'\n",
              "          + ' to learn more about interactive tables.';\n",
              "        element.innerHTML = '';\n",
              "        dataTable['output_type'] = 'display_data';\n",
              "        await google.colab.output.renderOutput(dataTable, element);\n",
              "        const docLink = document.createElement('div');\n",
              "        docLink.innerHTML = docLinkHtml;\n",
              "        element.appendChild(docLink);\n",
              "      }\n",
              "    </script>\n",
              "  </div>\n",
              "\n",
              "\n",
              "<div id=\"df-3ca39090-c613-4278-a709-6140f047ba2c\">\n",
              "  <button class=\"colab-df-quickchart\" onclick=\"quickchart('df-3ca39090-c613-4278-a709-6140f047ba2c')\"\n",
              "            title=\"Suggest charts.\"\n",
              "            style=\"display:none;\">\n",
              "\n",
              "<svg xmlns=\"http://www.w3.org/2000/svg\" height=\"24px\"viewBox=\"0 0 24 24\"\n",
              "     width=\"24px\">\n",
              "    <g>\n",
              "        <path d=\"M19 3H5c-1.1 0-2 .9-2 2v14c0 1.1.9 2 2 2h14c1.1 0 2-.9 2-2V5c0-1.1-.9-2-2-2zM9 17H7v-7h2v7zm4 0h-2V7h2v10zm4 0h-2v-4h2v4z\"/>\n",
              "    </g>\n",
              "</svg>\n",
              "  </button>\n",
              "\n",
              "<style>\n",
              "  .colab-df-quickchart {\n",
              "      --bg-color: #E8F0FE;\n",
              "      --fill-color: #1967D2;\n",
              "      --hover-bg-color: #E2EBFA;\n",
              "      --hover-fill-color: #174EA6;\n",
              "      --disabled-fill-color: #AAA;\n",
              "      --disabled-bg-color: #DDD;\n",
              "  }\n",
              "\n",
              "  [theme=dark] .colab-df-quickchart {\n",
              "      --bg-color: #3B4455;\n",
              "      --fill-color: #D2E3FC;\n",
              "      --hover-bg-color: #434B5C;\n",
              "      --hover-fill-color: #FFFFFF;\n",
              "      --disabled-bg-color: #3B4455;\n",
              "      --disabled-fill-color: #666;\n",
              "  }\n",
              "\n",
              "  .colab-df-quickchart {\n",
              "    background-color: var(--bg-color);\n",
              "    border: none;\n",
              "    border-radius: 50%;\n",
              "    cursor: pointer;\n",
              "    display: none;\n",
              "    fill: var(--fill-color);\n",
              "    height: 32px;\n",
              "    padding: 0;\n",
              "    width: 32px;\n",
              "  }\n",
              "\n",
              "  .colab-df-quickchart:hover {\n",
              "    background-color: var(--hover-bg-color);\n",
              "    box-shadow: 0 1px 2px rgba(60, 64, 67, 0.3), 0 1px 3px 1px rgba(60, 64, 67, 0.15);\n",
              "    fill: var(--button-hover-fill-color);\n",
              "  }\n",
              "\n",
              "  .colab-df-quickchart-complete:disabled,\n",
              "  .colab-df-quickchart-complete:disabled:hover {\n",
              "    background-color: var(--disabled-bg-color);\n",
              "    fill: var(--disabled-fill-color);\n",
              "    box-shadow: none;\n",
              "  }\n",
              "\n",
              "  .colab-df-spinner {\n",
              "    border: 2px solid var(--fill-color);\n",
              "    border-color: transparent;\n",
              "    border-bottom-color: var(--fill-color);\n",
              "    animation:\n",
              "      spin 1s steps(1) infinite;\n",
              "  }\n",
              "\n",
              "  @keyframes spin {\n",
              "    0% {\n",
              "      border-color: transparent;\n",
              "      border-bottom-color: var(--fill-color);\n",
              "      border-left-color: var(--fill-color);\n",
              "    }\n",
              "    20% {\n",
              "      border-color: transparent;\n",
              "      border-left-color: var(--fill-color);\n",
              "      border-top-color: var(--fill-color);\n",
              "    }\n",
              "    30% {\n",
              "      border-color: transparent;\n",
              "      border-left-color: var(--fill-color);\n",
              "      border-top-color: var(--fill-color);\n",
              "      border-right-color: var(--fill-color);\n",
              "    }\n",
              "    40% {\n",
              "      border-color: transparent;\n",
              "      border-right-color: var(--fill-color);\n",
              "      border-top-color: var(--fill-color);\n",
              "    }\n",
              "    60% {\n",
              "      border-color: transparent;\n",
              "      border-right-color: var(--fill-color);\n",
              "    }\n",
              "    80% {\n",
              "      border-color: transparent;\n",
              "      border-right-color: var(--fill-color);\n",
              "      border-bottom-color: var(--fill-color);\n",
              "    }\n",
              "    90% {\n",
              "      border-color: transparent;\n",
              "      border-bottom-color: var(--fill-color);\n",
              "    }\n",
              "  }\n",
              "</style>\n",
              "\n",
              "  <script>\n",
              "    async function quickchart(key) {\n",
              "      const quickchartButtonEl =\n",
              "        document.querySelector('#' + key + ' button');\n",
              "      quickchartButtonEl.disabled = true;  // To prevent multiple clicks.\n",
              "      quickchartButtonEl.classList.add('colab-df-spinner');\n",
              "      try {\n",
              "        const charts = await google.colab.kernel.invokeFunction(\n",
              "            'suggestCharts', [key], {});\n",
              "      } catch (error) {\n",
              "        console.error('Error during call to suggestCharts:', error);\n",
              "      }\n",
              "      quickchartButtonEl.classList.remove('colab-df-spinner');\n",
              "      quickchartButtonEl.classList.add('colab-df-quickchart-complete');\n",
              "    }\n",
              "    (() => {\n",
              "      let quickchartButtonEl =\n",
              "        document.querySelector('#df-3ca39090-c613-4278-a709-6140f047ba2c button');\n",
              "      quickchartButtonEl.style.display =\n",
              "        google.colab.kernel.accessAllowed ? 'block' : 'none';\n",
              "    })();\n",
              "  </script>\n",
              "</div>\n",
              "    </div>\n",
              "  </div>\n"
            ]
          },
          "metadata": {},
          "execution_count": 10
        }
      ]
    },
    {
      "cell_type": "code",
      "source": [
        "df['Target'] = df['v1'].apply(lambda x: 1 if x=='spam' else 0 )"
      ],
      "metadata": {
        "id": "9ASwQBlTjtmi"
      },
      "execution_count": 11,
      "outputs": []
    },
    {
      "cell_type": "code",
      "source": [
        "df.head()"
      ],
      "metadata": {
        "colab": {
          "base_uri": "https://localhost:8080/",
          "height": 206
        },
        "id": "sEccWTKPkJUR",
        "outputId": "b3188184-10a3-4fe3-bde6-f3826b1aa38c"
      },
      "execution_count": 12,
      "outputs": [
        {
          "output_type": "execute_result",
          "data": {
            "text/plain": [
              "     v1                                                 v2  Target\n",
              "0   ham  Go until jurong point, crazy.. Available only ...       0\n",
              "1   ham                      Ok lar... Joking wif u oni...       0\n",
              "2  spam  Free entry in 2 a wkly comp to win FA Cup fina...       1\n",
              "3   ham  U dun say so early hor... U c already then say...       0\n",
              "4   ham  Nah I don't think he goes to usf, he lives aro...       0"
            ],
            "text/html": [
              "\n",
              "  <div id=\"df-6f86da46-12c5-417d-a394-56d291f7df25\" class=\"colab-df-container\">\n",
              "    <div>\n",
              "<style scoped>\n",
              "    .dataframe tbody tr th:only-of-type {\n",
              "        vertical-align: middle;\n",
              "    }\n",
              "\n",
              "    .dataframe tbody tr th {\n",
              "        vertical-align: top;\n",
              "    }\n",
              "\n",
              "    .dataframe thead th {\n",
              "        text-align: right;\n",
              "    }\n",
              "</style>\n",
              "<table border=\"1\" class=\"dataframe\">\n",
              "  <thead>\n",
              "    <tr style=\"text-align: right;\">\n",
              "      <th></th>\n",
              "      <th>v1</th>\n",
              "      <th>v2</th>\n",
              "      <th>Target</th>\n",
              "    </tr>\n",
              "  </thead>\n",
              "  <tbody>\n",
              "    <tr>\n",
              "      <th>0</th>\n",
              "      <td>ham</td>\n",
              "      <td>Go until jurong point, crazy.. Available only ...</td>\n",
              "      <td>0</td>\n",
              "    </tr>\n",
              "    <tr>\n",
              "      <th>1</th>\n",
              "      <td>ham</td>\n",
              "      <td>Ok lar... Joking wif u oni...</td>\n",
              "      <td>0</td>\n",
              "    </tr>\n",
              "    <tr>\n",
              "      <th>2</th>\n",
              "      <td>spam</td>\n",
              "      <td>Free entry in 2 a wkly comp to win FA Cup fina...</td>\n",
              "      <td>1</td>\n",
              "    </tr>\n",
              "    <tr>\n",
              "      <th>3</th>\n",
              "      <td>ham</td>\n",
              "      <td>U dun say so early hor... U c already then say...</td>\n",
              "      <td>0</td>\n",
              "    </tr>\n",
              "    <tr>\n",
              "      <th>4</th>\n",
              "      <td>ham</td>\n",
              "      <td>Nah I don't think he goes to usf, he lives aro...</td>\n",
              "      <td>0</td>\n",
              "    </tr>\n",
              "  </tbody>\n",
              "</table>\n",
              "</div>\n",
              "    <div class=\"colab-df-buttons\">\n",
              "\n",
              "  <div class=\"colab-df-container\">\n",
              "    <button class=\"colab-df-convert\" onclick=\"convertToInteractive('df-6f86da46-12c5-417d-a394-56d291f7df25')\"\n",
              "            title=\"Convert this dataframe to an interactive table.\"\n",
              "            style=\"display:none;\">\n",
              "\n",
              "  <svg xmlns=\"http://www.w3.org/2000/svg\" height=\"24px\" viewBox=\"0 -960 960 960\">\n",
              "    <path d=\"M120-120v-720h720v720H120Zm60-500h600v-160H180v160Zm220 220h160v-160H400v160Zm0 220h160v-160H400v160ZM180-400h160v-160H180v160Zm440 0h160v-160H620v160ZM180-180h160v-160H180v160Zm440 0h160v-160H620v160Z\"/>\n",
              "  </svg>\n",
              "    </button>\n",
              "\n",
              "  <style>\n",
              "    .colab-df-container {\n",
              "      display:flex;\n",
              "      gap: 12px;\n",
              "    }\n",
              "\n",
              "    .colab-df-convert {\n",
              "      background-color: #E8F0FE;\n",
              "      border: none;\n",
              "      border-radius: 50%;\n",
              "      cursor: pointer;\n",
              "      display: none;\n",
              "      fill: #1967D2;\n",
              "      height: 32px;\n",
              "      padding: 0 0 0 0;\n",
              "      width: 32px;\n",
              "    }\n",
              "\n",
              "    .colab-df-convert:hover {\n",
              "      background-color: #E2EBFA;\n",
              "      box-shadow: 0px 1px 2px rgba(60, 64, 67, 0.3), 0px 1px 3px 1px rgba(60, 64, 67, 0.15);\n",
              "      fill: #174EA6;\n",
              "    }\n",
              "\n",
              "    .colab-df-buttons div {\n",
              "      margin-bottom: 4px;\n",
              "    }\n",
              "\n",
              "    [theme=dark] .colab-df-convert {\n",
              "      background-color: #3B4455;\n",
              "      fill: #D2E3FC;\n",
              "    }\n",
              "\n",
              "    [theme=dark] .colab-df-convert:hover {\n",
              "      background-color: #434B5C;\n",
              "      box-shadow: 0px 1px 3px 1px rgba(0, 0, 0, 0.15);\n",
              "      filter: drop-shadow(0px 1px 2px rgba(0, 0, 0, 0.3));\n",
              "      fill: #FFFFFF;\n",
              "    }\n",
              "  </style>\n",
              "\n",
              "    <script>\n",
              "      const buttonEl =\n",
              "        document.querySelector('#df-6f86da46-12c5-417d-a394-56d291f7df25 button.colab-df-convert');\n",
              "      buttonEl.style.display =\n",
              "        google.colab.kernel.accessAllowed ? 'block' : 'none';\n",
              "\n",
              "      async function convertToInteractive(key) {\n",
              "        const element = document.querySelector('#df-6f86da46-12c5-417d-a394-56d291f7df25');\n",
              "        const dataTable =\n",
              "          await google.colab.kernel.invokeFunction('convertToInteractive',\n",
              "                                                    [key], {});\n",
              "        if (!dataTable) return;\n",
              "\n",
              "        const docLinkHtml = 'Like what you see? Visit the ' +\n",
              "          '<a target=\"_blank\" href=https://colab.research.google.com/notebooks/data_table.ipynb>data table notebook</a>'\n",
              "          + ' to learn more about interactive tables.';\n",
              "        element.innerHTML = '';\n",
              "        dataTable['output_type'] = 'display_data';\n",
              "        await google.colab.output.renderOutput(dataTable, element);\n",
              "        const docLink = document.createElement('div');\n",
              "        docLink.innerHTML = docLinkHtml;\n",
              "        element.appendChild(docLink);\n",
              "      }\n",
              "    </script>\n",
              "  </div>\n",
              "\n",
              "\n",
              "<div id=\"df-3b2652da-bc98-4ab5-9c51-4574244a05d0\">\n",
              "  <button class=\"colab-df-quickchart\" onclick=\"quickchart('df-3b2652da-bc98-4ab5-9c51-4574244a05d0')\"\n",
              "            title=\"Suggest charts.\"\n",
              "            style=\"display:none;\">\n",
              "\n",
              "<svg xmlns=\"http://www.w3.org/2000/svg\" height=\"24px\"viewBox=\"0 0 24 24\"\n",
              "     width=\"24px\">\n",
              "    <g>\n",
              "        <path d=\"M19 3H5c-1.1 0-2 .9-2 2v14c0 1.1.9 2 2 2h14c1.1 0 2-.9 2-2V5c0-1.1-.9-2-2-2zM9 17H7v-7h2v7zm4 0h-2V7h2v10zm4 0h-2v-4h2v4z\"/>\n",
              "    </g>\n",
              "</svg>\n",
              "  </button>\n",
              "\n",
              "<style>\n",
              "  .colab-df-quickchart {\n",
              "      --bg-color: #E8F0FE;\n",
              "      --fill-color: #1967D2;\n",
              "      --hover-bg-color: #E2EBFA;\n",
              "      --hover-fill-color: #174EA6;\n",
              "      --disabled-fill-color: #AAA;\n",
              "      --disabled-bg-color: #DDD;\n",
              "  }\n",
              "\n",
              "  [theme=dark] .colab-df-quickchart {\n",
              "      --bg-color: #3B4455;\n",
              "      --fill-color: #D2E3FC;\n",
              "      --hover-bg-color: #434B5C;\n",
              "      --hover-fill-color: #FFFFFF;\n",
              "      --disabled-bg-color: #3B4455;\n",
              "      --disabled-fill-color: #666;\n",
              "  }\n",
              "\n",
              "  .colab-df-quickchart {\n",
              "    background-color: var(--bg-color);\n",
              "    border: none;\n",
              "    border-radius: 50%;\n",
              "    cursor: pointer;\n",
              "    display: none;\n",
              "    fill: var(--fill-color);\n",
              "    height: 32px;\n",
              "    padding: 0;\n",
              "    width: 32px;\n",
              "  }\n",
              "\n",
              "  .colab-df-quickchart:hover {\n",
              "    background-color: var(--hover-bg-color);\n",
              "    box-shadow: 0 1px 2px rgba(60, 64, 67, 0.3), 0 1px 3px 1px rgba(60, 64, 67, 0.15);\n",
              "    fill: var(--button-hover-fill-color);\n",
              "  }\n",
              "\n",
              "  .colab-df-quickchart-complete:disabled,\n",
              "  .colab-df-quickchart-complete:disabled:hover {\n",
              "    background-color: var(--disabled-bg-color);\n",
              "    fill: var(--disabled-fill-color);\n",
              "    box-shadow: none;\n",
              "  }\n",
              "\n",
              "  .colab-df-spinner {\n",
              "    border: 2px solid var(--fill-color);\n",
              "    border-color: transparent;\n",
              "    border-bottom-color: var(--fill-color);\n",
              "    animation:\n",
              "      spin 1s steps(1) infinite;\n",
              "  }\n",
              "\n",
              "  @keyframes spin {\n",
              "    0% {\n",
              "      border-color: transparent;\n",
              "      border-bottom-color: var(--fill-color);\n",
              "      border-left-color: var(--fill-color);\n",
              "    }\n",
              "    20% {\n",
              "      border-color: transparent;\n",
              "      border-left-color: var(--fill-color);\n",
              "      border-top-color: var(--fill-color);\n",
              "    }\n",
              "    30% {\n",
              "      border-color: transparent;\n",
              "      border-left-color: var(--fill-color);\n",
              "      border-top-color: var(--fill-color);\n",
              "      border-right-color: var(--fill-color);\n",
              "    }\n",
              "    40% {\n",
              "      border-color: transparent;\n",
              "      border-right-color: var(--fill-color);\n",
              "      border-top-color: var(--fill-color);\n",
              "    }\n",
              "    60% {\n",
              "      border-color: transparent;\n",
              "      border-right-color: var(--fill-color);\n",
              "    }\n",
              "    80% {\n",
              "      border-color: transparent;\n",
              "      border-right-color: var(--fill-color);\n",
              "      border-bottom-color: var(--fill-color);\n",
              "    }\n",
              "    90% {\n",
              "      border-color: transparent;\n",
              "      border-bottom-color: var(--fill-color);\n",
              "    }\n",
              "  }\n",
              "</style>\n",
              "\n",
              "  <script>\n",
              "    async function quickchart(key) {\n",
              "      const quickchartButtonEl =\n",
              "        document.querySelector('#' + key + ' button');\n",
              "      quickchartButtonEl.disabled = true;  // To prevent multiple clicks.\n",
              "      quickchartButtonEl.classList.add('colab-df-spinner');\n",
              "      try {\n",
              "        const charts = await google.colab.kernel.invokeFunction(\n",
              "            'suggestCharts', [key], {});\n",
              "      } catch (error) {\n",
              "        console.error('Error during call to suggestCharts:', error);\n",
              "      }\n",
              "      quickchartButtonEl.classList.remove('colab-df-spinner');\n",
              "      quickchartButtonEl.classList.add('colab-df-quickchart-complete');\n",
              "    }\n",
              "    (() => {\n",
              "      let quickchartButtonEl =\n",
              "        document.querySelector('#df-3b2652da-bc98-4ab5-9c51-4574244a05d0 button');\n",
              "      quickchartButtonEl.style.display =\n",
              "        google.colab.kernel.accessAllowed ? 'block' : 'none';\n",
              "    })();\n",
              "  </script>\n",
              "</div>\n",
              "    </div>\n",
              "  </div>\n"
            ]
          },
          "metadata": {},
          "execution_count": 12
        }
      ]
    },
    {
      "cell_type": "code",
      "source": [
        "x = df.drop(columns = ['v1','Target'])\n",
        "y = df['Target']\n"
      ],
      "metadata": {
        "id": "5f-eXOVQlHDO"
      },
      "execution_count": 13,
      "outputs": []
    },
    {
      "cell_type": "code",
      "source": [
        "from sklearn.model_selection import train_test_split"
      ],
      "metadata": {
        "id": "Hqci8lFflHMb"
      },
      "execution_count": 14,
      "outputs": []
    },
    {
      "cell_type": "code",
      "source": [
        "x_train, x_test, y_train, y_test = train_test_split(x,y, test_size = 0.2,stratify=df['Target'])"
      ],
      "metadata": {
        "id": "l62_f_XskKLv"
      },
      "execution_count": 15,
      "outputs": []
    },
    {
      "cell_type": "code",
      "source": [
        "print(x_train.shape)\n",
        "print(x_test.shape)"
      ],
      "metadata": {
        "colab": {
          "base_uri": "https://localhost:8080/"
        },
        "id": "TqbsvzeIkT_n",
        "outputId": "27acc607-d33e-4662-a0c9-fa2acbfc1ec9"
      },
      "execution_count": 16,
      "outputs": [
        {
          "output_type": "stream",
          "name": "stdout",
          "text": [
            "(4457, 1)\n",
            "(1115, 1)\n"
          ]
        }
      ]
    },
    {
      "cell_type": "code",
      "source": [
        "print(y_train.shape)\n",
        "print(y_test.shape)"
      ],
      "metadata": {
        "colab": {
          "base_uri": "https://localhost:8080/"
        },
        "id": "W4ByJWuplprs",
        "outputId": "359618c1-d59e-4561-fb84-0100efcd01e7"
      },
      "execution_count": 17,
      "outputs": [
        {
          "output_type": "stream",
          "name": "stdout",
          "text": [
            "(4457,)\n",
            "(1115,)\n"
          ]
        }
      ]
    },
    {
      "cell_type": "code",
      "source": [
        "y_train.value_counts()"
      ],
      "metadata": {
        "colab": {
          "base_uri": "https://localhost:8080/"
        },
        "id": "oJ5Ba72wm-3h",
        "outputId": "7befc716-7a6d-4d94-c75d-61f6cd36530a"
      },
      "execution_count": 18,
      "outputs": [
        {
          "output_type": "execute_result",
          "data": {
            "text/plain": [
              "0    3859\n",
              "1     598\n",
              "Name: Target, dtype: int64"
            ]
          },
          "metadata": {},
          "execution_count": 18
        }
      ]
    },
    {
      "cell_type": "code",
      "source": [
        "# https://tfhub.dev/google/collections/bert/1"
      ],
      "metadata": {
        "id": "l3GYVO6Zk2aC"
      },
      "execution_count": 19,
      "outputs": []
    },
    {
      "cell_type": "code",
      "source": [
        "y_test.value_counts()"
      ],
      "metadata": {
        "colab": {
          "base_uri": "https://localhost:8080/"
        },
        "id": "kqpMKNgsnGkl",
        "outputId": "764ebe31-c655-4cc1-a004-9e179a83fefd"
      },
      "execution_count": 20,
      "outputs": [
        {
          "output_type": "execute_result",
          "data": {
            "text/plain": [
              "0    966\n",
              "1    149\n",
              "Name: Target, dtype: int64"
            ]
          },
          "metadata": {},
          "execution_count": 20
        }
      ]
    },
    {
      "cell_type": "code",
      "source": [
        "encoded = 'https://tfhub.dev/tensorflow/bert_en_uncased_L-12_H-768_A-12/4'\n",
        "proprocessing = 'https://tfhub.dev/tensorflow/bert_en_uncased_preprocess/3'"
      ],
      "metadata": {
        "id": "QIJvcYnUlA7z"
      },
      "execution_count": 21,
      "outputs": []
    },
    {
      "cell_type": "code",
      "source": [
        "bert_proprocessing = hub.KerasLayer(proprocessing)\n",
        "bert_encoded = hub.KerasLayer(encoded)"
      ],
      "metadata": {
        "id": "K4hpIy6onGL_"
      },
      "execution_count": 22,
      "outputs": []
    },
    {
      "cell_type": "code",
      "source": [
        "def get_sentence_embeding(sentences):\n",
        "  preprocessed_text = bert_proprocessing(sentences)\n",
        "  return bert_encoded(preprocessed_text)['pooled_output']"
      ],
      "metadata": {
        "id": "ZmkGQtgpnNzl"
      },
      "execution_count": 23,
      "outputs": []
    },
    {
      "cell_type": "code",
      "source": [
        "new_text = df['v2'][0]"
      ],
      "metadata": {
        "id": "s_hyghaNp-Pv"
      },
      "execution_count": 24,
      "outputs": []
    },
    {
      "cell_type": "code",
      "source": [
        "get_sentence_embeding([new_text])"
      ],
      "metadata": {
        "colab": {
          "base_uri": "https://localhost:8080/"
        },
        "id": "iMlYZyVtp-S0",
        "outputId": "9f922f1d-775b-42f1-d37c-79ce2fb3bd75"
      },
      "execution_count": 25,
      "outputs": [
        {
          "output_type": "execute_result",
          "data": {
            "text/plain": [
              "<tf.Tensor: shape=(1, 768), dtype=float32, numpy=\n",
              "array([[-6.92833960e-01, -3.82204473e-01, -9.52783883e-01,\n",
              "         7.51712263e-01,  8.26993883e-01, -1.11341521e-01,\n",
              "         7.74034500e-01,  3.49266946e-01, -8.27566922e-01,\n",
              "        -9.99938130e-01, -4.91911769e-01,  8.27597916e-01,\n",
              "         9.51055884e-01,  5.97681642e-01,  8.68827343e-01,\n",
              "        -6.57569349e-01, -2.09730461e-01, -5.72027624e-01,\n",
              "         3.47762525e-01, -8.90989453e-02,  7.33236790e-01,\n",
              "         9.99997258e-01, -3.19873020e-02,  3.63329798e-01,\n",
              "         4.31966543e-01,  9.74061251e-01, -6.39868319e-01,\n",
              "         8.87976766e-01,  9.05901790e-01,  6.73174262e-01,\n",
              "        -6.16902351e-01,  1.64389327e-01, -9.71923470e-01,\n",
              "        -2.86567569e-01, -9.75934863e-01, -9.69695449e-01,\n",
              "         3.52540821e-01, -4.34979498e-01, -7.32300505e-02,\n",
              "         1.02228358e-01, -8.72294605e-01,  2.68635660e-01,\n",
              "         9.99939203e-01,  1.91501126e-01,  5.27790546e-01,\n",
              "        -2.25497440e-01, -9.99999046e-01,  2.58211702e-01,\n",
              "        -8.11431527e-01,  8.35212767e-01,  8.97511423e-01,\n",
              "         8.51749599e-01,  2.14102611e-01,  4.07510608e-01,\n",
              "         4.61228460e-01, -2.29469776e-01, -1.07961521e-01,\n",
              "         1.45134777e-01, -1.41582042e-01, -4.86212552e-01,\n",
              "        -5.58637142e-01,  4.53404427e-01, -9.32553172e-01,\n",
              "        -8.31167936e-01,  9.07229602e-01,  8.47137213e-01,\n",
              "        -3.16859871e-01, -3.38319868e-01, -4.62791771e-02,\n",
              "        -1.37768656e-01,  7.65357554e-01,  3.14090461e-01,\n",
              "        -3.43842134e-02, -8.77479672e-01,  6.79636002e-01,\n",
              "         3.96655321e-01, -7.20868409e-01,  1.00000000e+00,\n",
              "        -3.16975325e-01, -9.54281867e-01,  9.42034304e-01,\n",
              "         7.98480511e-01,  6.79527462e-01, -4.15025145e-01,\n",
              "         4.80573177e-01, -1.00000000e+00,  5.03472567e-01,\n",
              "        -2.47698680e-01, -9.75167274e-01,  2.21803606e-01,\n",
              "         6.01685703e-01, -2.54414141e-01,  8.61311138e-01,\n",
              "         6.69489026e-01, -7.14820385e-01, -4.13302481e-01,\n",
              "        -3.38499486e-01, -9.18816447e-01, -4.06143308e-01,\n",
              "        -4.15603310e-01,  2.21390545e-01, -3.19569290e-01,\n",
              "        -3.54175776e-01, -3.89380455e-01,  2.74148673e-01,\n",
              "        -3.53359818e-01, -2.61288434e-01,  3.95344168e-01,\n",
              "         3.04624170e-01,  5.77232122e-01,  5.82458138e-01,\n",
              "        -4.04392272e-01,  4.61559981e-01, -8.49677384e-01,\n",
              "         3.79428655e-01, -2.11733833e-01, -9.54434514e-01,\n",
              "        -6.89161718e-01, -9.76785123e-01,  6.70598686e-01,\n",
              "        -3.95381272e-01, -2.84326285e-01,  8.61993194e-01,\n",
              "        -5.93093395e-01,  3.68479729e-01, -1.10130288e-01,\n",
              "        -8.67868066e-01, -1.00000000e+00, -4.66349930e-01,\n",
              "        -7.80866563e-01, -6.58670720e-03, -3.24935317e-01,\n",
              "        -9.42409933e-01, -9.23729002e-01,  4.34378862e-01,\n",
              "         8.92345607e-01,  2.59755135e-01,  9.99790132e-01,\n",
              "        -3.42409879e-01,  9.21108484e-01, -4.05896485e-01,\n",
              "        -7.58747280e-01,  6.41027093e-01, -4.88059133e-01,\n",
              "         8.28025341e-01,  2.13932618e-01, -5.02680779e-01,\n",
              "         2.16303870e-01, -2.26054445e-01,  2.98729926e-01,\n",
              "        -7.06584156e-01, -1.47299692e-01, -8.79489839e-01,\n",
              "        -9.15994525e-01, -2.54192442e-01,  9.14869785e-01,\n",
              "        -7.67836392e-01, -9.48183179e-01, -3.34267855e-01,\n",
              "        -1.19544588e-01, -4.73818481e-01,  7.44088054e-01,\n",
              "         6.11615419e-01,  3.05988431e-01, -4.93486583e-01,\n",
              "         3.57129127e-01,  2.99466282e-01,  4.13739830e-01,\n",
              "        -6.61074281e-01,  3.68417203e-02,  3.00703079e-01,\n",
              "        -4.17779088e-01, -9.37238097e-01, -9.61570203e-01,\n",
              "        -3.20038021e-01,  4.45945054e-01,  9.69371796e-01,\n",
              "         7.16157675e-01,  3.03779691e-01,  6.93076253e-01,\n",
              "        -3.19720417e-01,  6.52671993e-01, -9.09076691e-01,\n",
              "         9.54500973e-01, -1.98134303e-01,  2.14768797e-01,\n",
              "        -7.80274987e-01,  5.28753519e-01, -8.30657899e-01,\n",
              "         4.69934970e-01,  7.61668503e-01, -6.06989741e-01,\n",
              "        -6.62454903e-01, -1.71016589e-01, -5.22018492e-01,\n",
              "        -3.36247772e-01, -8.75597596e-01,  5.56421280e-01,\n",
              "        -2.70269245e-01, -4.74939138e-01, -1.99828908e-01,\n",
              "         8.80264521e-01,  9.33477700e-01,  6.30238712e-01,\n",
              "         5.79857349e-01,  6.79465950e-01, -7.54326761e-01,\n",
              "        -5.92596233e-01,  1.02776133e-01,  1.53557837e-01,\n",
              "         2.85729796e-01,  9.65246081e-01, -8.18377852e-01,\n",
              "        -1.85477465e-01, -8.18160236e-01, -9.58696306e-01,\n",
              "        -2.36865617e-02, -8.52203727e-01, -1.24232411e-01,\n",
              "        -5.92469633e-01,  6.20806873e-01, -5.69642603e-01,\n",
              "         5.56521118e-01,  3.24879050e-01, -9.36532199e-01,\n",
              "        -6.28413260e-01,  3.20722938e-01, -4.03472275e-01,\n",
              "         5.04506111e-01, -1.07507341e-01,  8.21849704e-01,\n",
              "         9.68846977e-01, -4.89811122e-01,  2.80463874e-01,\n",
              "         9.37458992e-01, -9.77113485e-01, -8.13826382e-01,\n",
              "         5.14134467e-01, -1.74439117e-01,  5.69085538e-01,\n",
              "        -6.29493117e-01,  9.86340702e-01,  9.04490948e-01,\n",
              "         6.22049034e-01, -8.11033070e-01, -8.08689713e-01,\n",
              "        -6.59187138e-01, -7.33154058e-01, -2.82406509e-01,\n",
              "         1.72764599e-01,  8.77258897e-01,  6.85901284e-01,\n",
              "         3.24434668e-01,  2.51549557e-02, -6.21979773e-01,\n",
              "         9.36487854e-01, -8.71218503e-01, -9.26458776e-01,\n",
              "        -9.09189522e-01, -8.23255454e-04, -9.70697880e-01,\n",
              "         9.06128347e-01,  4.46696818e-01,  6.96054637e-01,\n",
              "        -4.23671991e-01, -5.61831355e-01, -9.20445442e-01,\n",
              "         7.51685143e-01,  1.66416734e-01,  9.47835505e-01,\n",
              "        -4.21864986e-01, -7.68764496e-01, -5.79621255e-01,\n",
              "        -8.96203876e-01, -1.07408039e-01, -2.03218400e-01,\n",
              "        -4.64576632e-01, -1.37172574e-02, -9.02684450e-01,\n",
              "         4.81764883e-01,  4.77429658e-01,  3.76591235e-01,\n",
              "        -8.83213699e-01,  9.87988472e-01,  1.00000000e+00,\n",
              "         9.35073912e-01,  7.73314238e-01,  6.12956822e-01,\n",
              "        -9.99914646e-01, -7.50689387e-01,  9.99958634e-01,\n",
              "        -9.78179395e-01, -1.00000000e+00, -8.80307794e-01,\n",
              "        -6.30115867e-01,  1.91416606e-01, -1.00000000e+00,\n",
              "        -1.92240760e-01,  4.92076389e-03, -8.26656759e-01,\n",
              "         7.46862173e-01,  9.19373453e-01,  8.95043314e-01,\n",
              "        -1.00000000e+00,  6.70071304e-01,  8.82056236e-01,\n",
              "        -6.68162227e-01,  8.94666076e-01, -4.10262764e-01,\n",
              "         9.31988239e-01,  8.03697705e-01,  4.39231068e-01,\n",
              "        -3.40042472e-01,  4.71998781e-01, -9.75924492e-01,\n",
              "        -7.34258831e-01, -7.78412461e-01, -8.54636192e-01,\n",
              "         9.99082863e-01,  1.72310859e-01, -7.85538614e-01,\n",
              "        -8.10396135e-01,  4.31905925e-01, -4.08183262e-02,\n",
              "         3.14466000e-01, -9.38059747e-01, -3.16102952e-01,\n",
              "         6.91306770e-01,  8.10453832e-01,  1.44213885e-01,\n",
              "         3.40344608e-01, -3.78259122e-01,  3.69330853e-01,\n",
              "         3.93819422e-01,  4.71341684e-02,  7.19453931e-01,\n",
              "        -7.99418867e-01, -3.12646508e-01, -5.51857829e-01,\n",
              "        -4.14650366e-02, -8.20587754e-01, -9.40369666e-01,\n",
              "         9.44289863e-01, -4.86105204e-01,  8.61578047e-01,\n",
              "         1.00000000e+00,  5.80002308e-01, -7.04787970e-01,\n",
              "         6.43403292e-01,  1.90941051e-01, -8.44528496e-01,\n",
              "         1.00000000e+00,  6.69720471e-01, -9.32152689e-01,\n",
              "        -6.17411733e-01,  7.04345226e-01, -5.87743640e-01,\n",
              "        -6.22864306e-01,  9.98216152e-01, -9.83235314e-02,\n",
              "        -7.29131639e-01, -5.66400051e-01,  9.72293496e-01,\n",
              "        -9.61977005e-01,  9.98095036e-01, -5.84071100e-01,\n",
              "        -9.25754845e-01,  9.13624048e-01,  8.76857460e-01,\n",
              "        -7.35868096e-01, -5.94506204e-01,  2.49661133e-01,\n",
              "        -7.14741647e-01,  2.98187822e-01, -8.55475187e-01,\n",
              "         6.67287409e-01,  5.05448282e-01, -1.49458617e-01,\n",
              "         7.75876880e-01, -5.04028678e-01, -6.84772134e-01,\n",
              "         1.43704310e-01, -6.39271259e-01, -3.42489839e-01,\n",
              "         9.64212179e-01,  4.97624934e-01, -3.70119303e-01,\n",
              "        -1.65941924e-01, -2.91379958e-01, -5.68826735e-01,\n",
              "        -9.37837183e-01,  7.84309626e-01,  1.00000000e+00,\n",
              "        -4.35379654e-01,  8.49345148e-01, -2.83647001e-01,\n",
              "         2.14799996e-02,  1.02669872e-01,  5.31473160e-01,\n",
              "         6.28644645e-01, -2.20296443e-01, -7.49672413e-01,\n",
              "         8.82436335e-01, -9.11771953e-01, -9.77620482e-01,\n",
              "         7.70641804e-01,  2.26064876e-01, -4.02112193e-02,\n",
              "         9.99960721e-01,  5.51577508e-01,  2.26373270e-01,\n",
              "         4.41024601e-01,  9.51531768e-01, -6.15085522e-03,\n",
              "         1.08073264e-01,  8.84435534e-01,  9.47055817e-01,\n",
              "        -2.00026482e-01,  6.88136339e-01,  5.82570493e-01,\n",
              "        -8.93197596e-01, -3.05090696e-01, -5.76844633e-01,\n",
              "        -3.48127484e-02, -9.14509416e-01,  3.26789878e-02,\n",
              "        -9.07935083e-01,  9.44767058e-01,  8.79440606e-01,\n",
              "         4.25680190e-01,  3.25642675e-01,  9.11287844e-01,\n",
              "         1.00000000e+00, -8.62745941e-01,  6.07707918e-01,\n",
              "         1.06859185e-01,  6.81874812e-01, -9.99915838e-01,\n",
              "        -6.03699505e-01, -4.53189880e-01, -2.19940562e-02,\n",
              "        -8.69223952e-01, -2.94189543e-01,  3.70982856e-01,\n",
              "        -9.52128053e-01,  8.42018306e-01,  7.79172421e-01,\n",
              "        -9.36325669e-01, -9.63714898e-01, -6.16262734e-01,\n",
              "         6.93205774e-01,  2.24706709e-01, -9.88435686e-01,\n",
              "        -2.88310140e-01, -3.99636924e-01,  6.90752149e-01,\n",
              "        -3.57882231e-01, -8.71267021e-01, -2.22503603e-01,\n",
              "        -3.57278436e-01,  4.76405770e-01, -1.26255199e-01,\n",
              "         6.90946937e-01,  8.60788763e-01,  6.64111078e-01,\n",
              "        -8.69301796e-01, -3.96797240e-01, -1.84026301e-01,\n",
              "        -7.10142314e-01,  6.98204935e-01, -6.93522453e-01,\n",
              "        -9.62726235e-01, -2.36624181e-01,  1.00000000e+00,\n",
              "        -4.00169045e-01,  9.48777080e-01,  5.47207773e-01,\n",
              "         4.17713434e-01, -1.78798988e-01,  1.80204079e-01,\n",
              "         9.63178754e-01,  3.77437830e-01, -7.04588532e-01,\n",
              "        -8.44975889e-01, -1.78083349e-02, -3.51330280e-01,\n",
              "         4.64463055e-01,  7.98249841e-01,  7.78398514e-01,\n",
              "         7.39347816e-01,  7.67520905e-01,  1.37335107e-01,\n",
              "         4.38950509e-02,  3.13319378e-02,  9.89236116e-01,\n",
              "        -2.34618202e-01, -3.31000350e-02, -3.65290135e-01,\n",
              "        -3.52851033e-01, -3.31996709e-01, -9.72188786e-02,\n",
              "         1.00000000e+00,  2.93883592e-01,  6.23392582e-01,\n",
              "        -9.63399291e-01, -8.65164936e-01, -8.21173429e-01,\n",
              "         1.00000000e+00,  7.76235938e-01, -6.59484923e-01,\n",
              "         5.25058448e-01,  6.69345438e-01, -1.66290224e-01,\n",
              "         5.21174312e-01, -1.73633099e-01, -3.43968093e-01,\n",
              "         1.56109855e-01,  1.00502349e-01,  8.94671500e-01,\n",
              "        -6.38187408e-01, -9.55561578e-01, -5.89875042e-01,\n",
              "         4.52112705e-01, -9.13264096e-01,  9.99969542e-01,\n",
              "        -5.97567916e-01, -2.45801374e-01, -3.06500793e-01,\n",
              "        -2.02131584e-01, -3.51237476e-01,  1.74296647e-02,\n",
              "        -9.55267668e-01, -6.46194369e-02,  2.59776145e-01,\n",
              "         9.33405221e-01,  2.99049079e-01, -6.59577429e-01,\n",
              "        -8.77105892e-01,  8.87470365e-01,  8.28870058e-01,\n",
              "        -8.87153447e-01, -9.00293410e-01,  9.06637251e-01,\n",
              "        -9.50437725e-01,  5.18478334e-01,  1.00000000e+00,\n",
              "         4.62828994e-01,  2.36545905e-01,  1.71767727e-01,\n",
              "        -1.68760836e-01,  4.08377677e-01, -6.73102140e-01,\n",
              "         4.89000589e-01, -9.19368207e-01, -3.13506424e-01,\n",
              "        -1.33814305e-01,  3.81735891e-01, -6.55749887e-02,\n",
              "        -2.24381655e-01,  6.04671061e-01,  1.69631198e-01,\n",
              "        -5.72564423e-01, -6.55337691e-01, -2.11585790e-01,\n",
              "         2.71801651e-01,  7.86710143e-01, -3.49129885e-01,\n",
              "        -2.46268541e-01, -4.38897870e-03,  3.82801774e-03,\n",
              "        -9.04923797e-01, -3.65704358e-01, -3.53078455e-01,\n",
              "        -9.99995708e-01,  5.38305402e-01, -1.00000000e+00,\n",
              "         6.27397299e-01,  1.46987781e-01, -1.08198345e-01,\n",
              "         7.49215126e-01,  4.83798653e-01,  7.32884228e-01,\n",
              "        -4.83171076e-01, -8.76555026e-01,  3.58102530e-01,\n",
              "         7.44538307e-01, -3.14476788e-01, -2.74031311e-01,\n",
              "        -5.79128265e-01,  4.33597952e-01, -1.23422906e-01,\n",
              "         3.37940246e-01, -4.83613640e-01,  5.81593156e-01,\n",
              "        -1.65533021e-01,  1.00000000e+00,  1.92959353e-01,\n",
              "        -4.91339535e-01, -9.48792577e-01,  1.96692526e-01,\n",
              "        -2.59249717e-01,  1.00000000e+00, -4.69182104e-01,\n",
              "        -9.19281125e-01,  3.44649255e-01, -7.03340769e-01,\n",
              "        -7.88654745e-01,  3.53018045e-01,  3.14208642e-02,\n",
              "        -7.76229084e-01, -9.55740154e-01,  9.07174468e-01,\n",
              "         7.35569894e-01, -6.84905887e-01,  4.94475096e-01,\n",
              "        -4.25734669e-01, -5.89100301e-01,  1.67421579e-01,\n",
              "         9.15077388e-01,  9.61844981e-01,  7.12449610e-01,\n",
              "         7.37927735e-01, -2.48702228e-01, -5.07415235e-01,\n",
              "         9.52189982e-01,  1.14491187e-01,  1.71214506e-01,\n",
              "         9.93403271e-02,  1.00000000e+00,  3.05022746e-01,\n",
              "        -8.47059965e-01, -2.85397649e-01, -9.03648973e-01,\n",
              "        -2.15716377e-01, -8.20831180e-01,  2.44667158e-01,\n",
              "         2.30839506e-01,  8.46327364e-01, -4.00278896e-01,\n",
              "         8.81028354e-01, -8.99049044e-01, -4.74938676e-02,\n",
              "        -5.66944182e-01, -7.33651578e-01,  4.13415045e-01,\n",
              "        -9.00553703e-01, -9.61392105e-01, -9.66554165e-01,\n",
              "         4.96518493e-01, -4.03037339e-01, -1.11478642e-01,\n",
              "         1.58393666e-01, -7.59779215e-02,  3.60431582e-01,\n",
              "         4.39944059e-01, -1.00000000e+00,  9.18643475e-01,\n",
              "         3.90339643e-01,  8.92154694e-01,  8.48746538e-01,\n",
              "         8.16241324e-01,  4.39667404e-01,  3.10506105e-01,\n",
              "        -9.61609304e-01, -9.17125702e-01, -4.04444844e-01,\n",
              "        -1.56980053e-01,  7.44520545e-01,  5.81450641e-01,\n",
              "         7.91439414e-01,  3.10748309e-01, -5.09116828e-01,\n",
              "        -4.28936929e-01, -8.05598557e-01, -7.40365922e-01,\n",
              "        -9.77704763e-01,  4.37015027e-01, -6.22503400e-01,\n",
              "        -7.95045316e-01,  9.43054318e-01,  6.90581203e-02,\n",
              "        -1.19466335e-01, -3.76373202e-01, -9.01709020e-01,\n",
              "         7.94393837e-01,  6.86453700e-01,  2.38667428e-01,\n",
              "         1.54537678e-01,  5.68781316e-01,  7.59289205e-01,\n",
              "         8.24779928e-01,  9.58250284e-01, -8.59248400e-01,\n",
              "         6.48455203e-01, -5.93713105e-01,  4.87904459e-01,\n",
              "         9.09378409e-01, -9.19027388e-01,  2.79469818e-01,\n",
              "         4.31049079e-01, -4.79616582e-01,  1.49935991e-01,\n",
              "        -4.25715715e-01, -7.97730446e-01,  7.82019436e-01,\n",
              "        -3.13853323e-01,  4.69476700e-01, -4.42482024e-01,\n",
              "         4.45415340e-02, -4.93277907e-01, -2.34428599e-01,\n",
              "        -6.74564123e-01, -6.73840940e-01,  7.39281356e-01,\n",
              "         2.49077454e-01,  8.45320642e-01,  9.27481651e-01,\n",
              "        -6.80695772e-02, -5.73746264e-01, -1.06449001e-01,\n",
              "        -7.59990692e-01, -8.65368128e-01,  7.21686006e-01,\n",
              "        -7.49258995e-02, -2.97156692e-01,  8.07019830e-01,\n",
              "         1.28719732e-01,  9.45178747e-01,  3.77948761e-01,\n",
              "        -3.24837774e-01, -3.08577597e-01, -6.10155344e-01,\n",
              "         6.37458920e-01, -5.02107501e-01, -6.45559728e-01,\n",
              "        -6.45332754e-01,  6.67418480e-01,  3.51985306e-01,\n",
              "         9.99994397e-01, -8.51651073e-01, -8.80441844e-01,\n",
              "        -4.71544534e-01, -3.01950246e-01,  4.36970532e-01,\n",
              "        -6.49749756e-01, -1.00000000e+00,  2.90155768e-01,\n",
              "        -5.29392064e-01,  7.78879046e-01, -8.49530756e-01,\n",
              "         8.97550046e-01, -6.07490957e-01, -9.42891955e-01,\n",
              "        -3.96087646e-01,  4.25017864e-01,  7.25298941e-01,\n",
              "        -3.76804352e-01, -6.27493918e-01,  6.07851684e-01,\n",
              "        -6.51652366e-02,  9.54539895e-01,  7.65170038e-01,\n",
              "        -2.14871138e-01,  8.99567362e-03,  7.18158305e-01,\n",
              "        -9.01146889e-01, -6.41623676e-01,  8.35224152e-01]], dtype=float32)>"
            ]
          },
          "metadata": {},
          "execution_count": 25
        }
      ]
    },
    {
      "cell_type": "code",
      "source": [
        "e = get_sentence_embeding([\n",
        "    \"banana\",\n",
        "    \"grapes\",\n",
        "    \"mango\",\n",
        "    \"jeff bezos\",\n",
        "    \"elon musk\"\n",
        "])"
      ],
      "metadata": {
        "id": "rAk_fkt7p-Vq"
      },
      "execution_count": 26,
      "outputs": []
    },
    {
      "cell_type": "code",
      "source": [
        "from sklearn.metrics.pairwise import cosine_similarity"
      ],
      "metadata": {
        "id": "vHHpnOqrp-YR"
      },
      "execution_count": 27,
      "outputs": []
    },
    {
      "cell_type": "code",
      "source": [
        "cosine_similarity([e[0]],[e[3]])"
      ],
      "metadata": {
        "colab": {
          "base_uri": "https://localhost:8080/"
        },
        "id": "qT4IGcg8qEwu",
        "outputId": "d6632308-501a-4a97-8578-d23e4ef6a458"
      },
      "execution_count": 28,
      "outputs": [
        {
          "output_type": "execute_result",
          "data": {
            "text/plain": [
              "array([[0.84703815]], dtype=float32)"
            ]
          },
          "metadata": {},
          "execution_count": 28
        }
      ]
    },
    {
      "cell_type": "code",
      "source": [],
      "metadata": {
        "id": "vmnqBfizY60X"
      },
      "execution_count": 28,
      "outputs": []
    },
    {
      "cell_type": "markdown",
      "source": [
        "## Deep learning (Functional)"
      ],
      "metadata": {
        "id": "oVsPyiM2cvQq"
      }
    },
    {
      "cell_type": "code",
      "source": [
        "# bert_proprocessing = hub.KerasLayer(proprocessing)\n",
        "# bert_encoded = hub.KerasLayer(encoded)"
      ],
      "metadata": {
        "id": "fLJv1BTQi7_W"
      },
      "execution_count": 29,
      "outputs": []
    },
    {
      "cell_type": "code",
      "source": [
        "# def get_sentence_embeding(sentences):\n",
        "#   preprocessed_text = bert_proprocessing(sentences)\n",
        "#   return bert_encoded(preprocessed_text)['pooled_output']"
      ],
      "metadata": {
        "id": "o0Zb2vOPi8B6"
      },
      "execution_count": 30,
      "outputs": []
    },
    {
      "cell_type": "code",
      "source": [
        "text_input = tf.keras.layers.Input(shape=(),dtype=tf.string, name='text')\n",
        "preprocessed_txt = bert_proprocessing(text_input)\n",
        "outputs = bert_encoded(preprocessed_txt)"
      ],
      "metadata": {
        "id": "X2ulk2nHeQ2M"
      },
      "execution_count": 31,
      "outputs": []
    },
    {
      "cell_type": "code",
      "source": [
        "l = tf.keras.layers.Dropout(0.3,name='dropout')\n",
        "l = l(outputs['pooled_output'])"
      ],
      "metadata": {
        "id": "4uHBls0ojS_U"
      },
      "execution_count": 32,
      "outputs": []
    },
    {
      "cell_type": "code",
      "source": [
        "l = tf.keras.layers.Dense(1, activation='sigmoid', name = 'output')(l)"
      ],
      "metadata": {
        "id": "8rmHEIhlkICj"
      },
      "execution_count": 33,
      "outputs": []
    },
    {
      "cell_type": "code",
      "source": [
        "model = tf.keras.Model(inputs = [text_input],outputs = [l])\n",
        "model.summary()"
      ],
      "metadata": {
        "colab": {
          "base_uri": "https://localhost:8080/"
        },
        "id": "xPqh4IJOkef5",
        "outputId": "6014b75f-d946-489d-f098-dcc12a9201df"
      },
      "execution_count": 34,
      "outputs": [
        {
          "output_type": "stream",
          "name": "stdout",
          "text": [
            "Model: \"model\"\n",
            "__________________________________________________________________________________________________\n",
            " Layer (type)                Output Shape                 Param #   Connected to                  \n",
            "==================================================================================================\n",
            " text (InputLayer)           [(None,)]                    0         []                            \n",
            "                                                                                                  \n",
            " keras_layer (KerasLayer)    {'input_word_ids': (None,    0         ['text[0][0]']                \n",
            "                             128),                                                                \n",
            "                              'input_mask': (None, 128)                                           \n",
            "                             , 'input_type_ids': (None,                                           \n",
            "                              128)}                                                               \n",
            "                                                                                                  \n",
            " keras_layer_1 (KerasLayer)  {'sequence_output': (None,   1094822   ['keras_layer[0][0]',         \n",
            "                              128, 768),                  41         'keras_layer[0][1]',         \n",
            "                              'pooled_output': (None, 7              'keras_layer[0][2]']         \n",
            "                             68),                                                                 \n",
            "                              'default': (None, 768),                                             \n",
            "                              'encoder_outputs': [(None                                           \n",
            "                             , 128, 768),                                                         \n",
            "                              (None, 128, 768),                                                   \n",
            "                              (None, 128, 768),                                                   \n",
            "                              (None, 128, 768),                                                   \n",
            "                              (None, 128, 768),                                                   \n",
            "                              (None, 128, 768),                                                   \n",
            "                              (None, 128, 768),                                                   \n",
            "                              (None, 128, 768),                                                   \n",
            "                              (None, 128, 768),                                                   \n",
            "                              (None, 128, 768),                                                   \n",
            "                              (None, 128, 768),                                                   \n",
            "                              (None, 128, 768)]}                                                  \n",
            "                                                                                                  \n",
            " dropout (Dropout)           (None, 768)                  0         ['keras_layer_1[0][13]']      \n",
            "                                                                                                  \n",
            " output (Dense)              (None, 1)                    769       ['dropout[0][0]']             \n",
            "                                                                                                  \n",
            "==================================================================================================\n",
            "Total params: 109483010 (417.64 MB)\n",
            "Trainable params: 769 (3.00 KB)\n",
            "Non-trainable params: 109482241 (417.64 MB)\n",
            "__________________________________________________________________________________________________\n"
          ]
        }
      ]
    },
    {
      "cell_type": "code",
      "source": [
        "model.compile(optimizer='adam',\n",
        "              loss = 'binary_crossentropy',\n",
        "              metrics = ['accuracy'])"
      ],
      "metadata": {
        "id": "xQDkMl6Gk0b2"
      },
      "execution_count": 35,
      "outputs": []
    },
    {
      "cell_type": "code",
      "source": [
        "model.fit(x_train, y_train, epochs =10)"
      ],
      "metadata": {
        "colab": {
          "base_uri": "https://localhost:8080/"
        },
        "id": "lYLJl_9Alnhx",
        "outputId": "15ca84a7-2b1e-45e5-95bd-84a70a63087c"
      },
      "execution_count": 36,
      "outputs": [
        {
          "output_type": "stream",
          "name": "stdout",
          "text": [
            "Epoch 1/10\n",
            "140/140 [==============================] - 58s 337ms/step - loss: 0.3662 - accuracy: 0.8562\n",
            "Epoch 2/10\n",
            "140/140 [==============================] - 49s 353ms/step - loss: 0.2573 - accuracy: 0.8887\n",
            "Epoch 3/10\n",
            "140/140 [==============================] - 48s 347ms/step - loss: 0.2161 - accuracy: 0.9096\n",
            "Epoch 4/10\n",
            "140/140 [==============================] - 50s 355ms/step - loss: 0.1940 - accuracy: 0.9212\n",
            "Epoch 5/10\n",
            "140/140 [==============================] - 50s 357ms/step - loss: 0.1748 - accuracy: 0.9309\n",
            "Epoch 6/10\n",
            "140/140 [==============================] - 49s 349ms/step - loss: 0.1606 - accuracy: 0.9363\n",
            "Epoch 7/10\n",
            "140/140 [==============================] - 49s 348ms/step - loss: 0.1523 - accuracy: 0.9446\n",
            "Epoch 8/10\n",
            "140/140 [==============================] - 49s 348ms/step - loss: 0.1448 - accuracy: 0.9450\n",
            "Epoch 9/10\n",
            "140/140 [==============================] - 49s 348ms/step - loss: 0.1334 - accuracy: 0.9554\n",
            "Epoch 10/10\n",
            "140/140 [==============================] - 49s 351ms/step - loss: 0.1271 - accuracy: 0.9554\n"
          ]
        },
        {
          "output_type": "execute_result",
          "data": {
            "text/plain": [
              "<keras.src.callbacks.History at 0x7d43391a1300>"
            ]
          },
          "metadata": {},
          "execution_count": 36
        }
      ]
    },
    {
      "cell_type": "code",
      "source": [
        "model.evaluate(x_test, y_test)"
      ],
      "metadata": {
        "colab": {
          "base_uri": "https://localhost:8080/"
        },
        "id": "bwbaSpubltZb",
        "outputId": "a93b41ab-b58b-4217-b3bf-916a1b115437"
      },
      "execution_count": 38,
      "outputs": [
        {
          "output_type": "stream",
          "name": "stdout",
          "text": [
            "35/35 [==============================] - 13s 342ms/step - loss: 0.1221 - accuracy: 0.9713\n"
          ]
        },
        {
          "output_type": "execute_result",
          "data": {
            "text/plain": [
              "[0.12209820002317429, 0.9713004231452942]"
            ]
          },
          "metadata": {},
          "execution_count": 38
        }
      ]
    },
    {
      "cell_type": "code",
      "source": [
        "reviews = [\n",
        "    \"Reply to win 1000 Rs  Weekly, where will the 2006 FIFA World Cup be held? Send STOP to 87234\",\n",
        "    \"Hey Sam, Are you coming for a cricket game tomorrow\",\n",
        "    \"Why don't you wait til at least wednesday to see if you get your .\"\n",
        "    ]\n",
        "\n",
        "model.predict(reviews)"
      ],
      "metadata": {
        "colab": {
          "base_uri": "https://localhost:8080/"
        },
        "id": "R_pYwjrZogIH",
        "outputId": "95d1ba57-a50d-41bf-c358-4ad3406508ed"
      },
      "execution_count": 39,
      "outputs": [
        {
          "output_type": "stream",
          "name": "stdout",
          "text": [
            "1/1 [==============================] - 1s 989ms/step\n"
          ]
        },
        {
          "output_type": "execute_result",
          "data": {
            "text/plain": [
              "array([[0.5737727 ],\n",
              "       [0.04552301],\n",
              "       [0.01899148]], dtype=float32)"
            ]
          },
          "metadata": {},
          "execution_count": 39
        }
      ]
    },
    {
      "cell_type": "code",
      "source": [
        "model.predict(x_test)"
      ],
      "metadata": {
        "colab": {
          "base_uri": "https://localhost:8080/"
        },
        "id": "VK8RjiWSogLS",
        "outputId": "9ed6caae-4a57-4958-ff03-f216f75be704"
      },
      "execution_count": 40,
      "outputs": [
        {
          "output_type": "stream",
          "name": "stdout",
          "text": [
            "35/35 [==============================] - 13s 343ms/step\n"
          ]
        },
        {
          "output_type": "execute_result",
          "data": {
            "text/plain": [
              "array([[0.01356408],\n",
              "       [0.00258096],\n",
              "       [0.25204453],\n",
              "       ...,\n",
              "       [0.03223979],\n",
              "       [0.00930908],\n",
              "       [0.02845344]], dtype=float32)"
            ]
          },
          "metadata": {},
          "execution_count": 40
        }
      ]
    },
    {
      "cell_type": "code",
      "source": [
        "df['v2']"
      ],
      "metadata": {
        "colab": {
          "base_uri": "https://localhost:8080/"
        },
        "id": "F_k727rxIUEz",
        "outputId": "67905640-0c68-49d1-9313-b2c3a1d1daea"
      },
      "execution_count": 42,
      "outputs": [
        {
          "output_type": "execute_result",
          "data": {
            "text/plain": [
              "0       Go until jurong point, crazy.. Available only ...\n",
              "1                           Ok lar... Joking wif u oni...\n",
              "2       Free entry in 2 a wkly comp to win FA Cup fina...\n",
              "3       U dun say so early hor... U c already then say...\n",
              "4       Nah I don't think he goes to usf, he lives aro...\n",
              "                              ...                        \n",
              "5567    This is the 2nd time we have tried 2 contact u...\n",
              "5568                Will Ì_ b going to esplanade fr home?\n",
              "5569    Pity, * was in mood for that. So...any other s...\n",
              "5570    The guy did some bitching but I acted like i'd...\n",
              "5571                           Rofl. Its true to its name\n",
              "Name: v2, Length: 5572, dtype: object"
            ]
          },
          "metadata": {},
          "execution_count": 42
        }
      ]
    },
    {
      "cell_type": "code",
      "source": [
        "model_output = model.predict(df['v2'])"
      ],
      "metadata": {
        "colab": {
          "base_uri": "https://localhost:8080/"
        },
        "id": "5_W5quzWIdr9",
        "outputId": "88cf6b30-13d3-489a-d2a4-f8782712b850"
      },
      "execution_count": 44,
      "outputs": [
        {
          "output_type": "stream",
          "name": "stdout",
          "text": [
            "175/175 [==============================] - 62s 356ms/step\n"
          ]
        }
      ]
    },
    {
      "cell_type": "code",
      "source": [
        "df['Model_output'] = model_output"
      ],
      "metadata": {
        "id": "amzZV-QJIkAa"
      },
      "execution_count": 45,
      "outputs": []
    },
    {
      "cell_type": "code",
      "source": [
        "df['Model Output']=df['Model_output'].apply(lambda x : 1 if x >0.50 else 0)"
      ],
      "metadata": {
        "id": "SKO2R_wHJJPk"
      },
      "execution_count": 48,
      "outputs": []
    },
    {
      "cell_type": "code",
      "source": [
        "df"
      ],
      "metadata": {
        "colab": {
          "base_uri": "https://localhost:8080/",
          "height": 424
        },
        "id": "0lvEuKGNJKXy",
        "outputId": "abadb924-373d-41a5-9014-5c06b7d183ba"
      },
      "execution_count": 49,
      "outputs": [
        {
          "output_type": "execute_result",
          "data": {
            "text/plain": [
              "        v1                                                 v2  Target  \\\n",
              "0      ham  Go until jurong point, crazy.. Available only ...       0   \n",
              "1      ham                      Ok lar... Joking wif u oni...       0   \n",
              "2     spam  Free entry in 2 a wkly comp to win FA Cup fina...       1   \n",
              "3      ham  U dun say so early hor... U c already then say...       0   \n",
              "4      ham  Nah I don't think he goes to usf, he lives aro...       0   \n",
              "...    ...                                                ...     ...   \n",
              "5567  spam  This is the 2nd time we have tried 2 contact u...       1   \n",
              "5568   ham              Will Ì_ b going to esplanade fr home?       0   \n",
              "5569   ham  Pity, * was in mood for that. So...any other s...       0   \n",
              "5570   ham  The guy did some bitching but I acted like i'd...       0   \n",
              "5571   ham                         Rofl. Its true to its name       0   \n",
              "\n",
              "      Model_output  Model Output  \n",
              "0         0.046135             0  \n",
              "1         0.030154             0  \n",
              "2         0.784867             1  \n",
              "3         0.019394             0  \n",
              "4         0.014374             0  \n",
              "...            ...           ...  \n",
              "5567      0.717496             1  \n",
              "5568      0.011676             0  \n",
              "5569      0.014758             0  \n",
              "5570      0.030238             0  \n",
              "5571      0.006575             0  \n",
              "\n",
              "[5572 rows x 5 columns]"
            ],
            "text/html": [
              "\n",
              "  <div id=\"df-125dde33-1009-4aba-a1cf-08d05b9657b4\" class=\"colab-df-container\">\n",
              "    <div>\n",
              "<style scoped>\n",
              "    .dataframe tbody tr th:only-of-type {\n",
              "        vertical-align: middle;\n",
              "    }\n",
              "\n",
              "    .dataframe tbody tr th {\n",
              "        vertical-align: top;\n",
              "    }\n",
              "\n",
              "    .dataframe thead th {\n",
              "        text-align: right;\n",
              "    }\n",
              "</style>\n",
              "<table border=\"1\" class=\"dataframe\">\n",
              "  <thead>\n",
              "    <tr style=\"text-align: right;\">\n",
              "      <th></th>\n",
              "      <th>v1</th>\n",
              "      <th>v2</th>\n",
              "      <th>Target</th>\n",
              "      <th>Model_output</th>\n",
              "      <th>Model Output</th>\n",
              "    </tr>\n",
              "  </thead>\n",
              "  <tbody>\n",
              "    <tr>\n",
              "      <th>0</th>\n",
              "      <td>ham</td>\n",
              "      <td>Go until jurong point, crazy.. Available only ...</td>\n",
              "      <td>0</td>\n",
              "      <td>0.046135</td>\n",
              "      <td>0</td>\n",
              "    </tr>\n",
              "    <tr>\n",
              "      <th>1</th>\n",
              "      <td>ham</td>\n",
              "      <td>Ok lar... Joking wif u oni...</td>\n",
              "      <td>0</td>\n",
              "      <td>0.030154</td>\n",
              "      <td>0</td>\n",
              "    </tr>\n",
              "    <tr>\n",
              "      <th>2</th>\n",
              "      <td>spam</td>\n",
              "      <td>Free entry in 2 a wkly comp to win FA Cup fina...</td>\n",
              "      <td>1</td>\n",
              "      <td>0.784867</td>\n",
              "      <td>1</td>\n",
              "    </tr>\n",
              "    <tr>\n",
              "      <th>3</th>\n",
              "      <td>ham</td>\n",
              "      <td>U dun say so early hor... U c already then say...</td>\n",
              "      <td>0</td>\n",
              "      <td>0.019394</td>\n",
              "      <td>0</td>\n",
              "    </tr>\n",
              "    <tr>\n",
              "      <th>4</th>\n",
              "      <td>ham</td>\n",
              "      <td>Nah I don't think he goes to usf, he lives aro...</td>\n",
              "      <td>0</td>\n",
              "      <td>0.014374</td>\n",
              "      <td>0</td>\n",
              "    </tr>\n",
              "    <tr>\n",
              "      <th>...</th>\n",
              "      <td>...</td>\n",
              "      <td>...</td>\n",
              "      <td>...</td>\n",
              "      <td>...</td>\n",
              "      <td>...</td>\n",
              "    </tr>\n",
              "    <tr>\n",
              "      <th>5567</th>\n",
              "      <td>spam</td>\n",
              "      <td>This is the 2nd time we have tried 2 contact u...</td>\n",
              "      <td>1</td>\n",
              "      <td>0.717496</td>\n",
              "      <td>1</td>\n",
              "    </tr>\n",
              "    <tr>\n",
              "      <th>5568</th>\n",
              "      <td>ham</td>\n",
              "      <td>Will Ì_ b going to esplanade fr home?</td>\n",
              "      <td>0</td>\n",
              "      <td>0.011676</td>\n",
              "      <td>0</td>\n",
              "    </tr>\n",
              "    <tr>\n",
              "      <th>5569</th>\n",
              "      <td>ham</td>\n",
              "      <td>Pity, * was in mood for that. So...any other s...</td>\n",
              "      <td>0</td>\n",
              "      <td>0.014758</td>\n",
              "      <td>0</td>\n",
              "    </tr>\n",
              "    <tr>\n",
              "      <th>5570</th>\n",
              "      <td>ham</td>\n",
              "      <td>The guy did some bitching but I acted like i'd...</td>\n",
              "      <td>0</td>\n",
              "      <td>0.030238</td>\n",
              "      <td>0</td>\n",
              "    </tr>\n",
              "    <tr>\n",
              "      <th>5571</th>\n",
              "      <td>ham</td>\n",
              "      <td>Rofl. Its true to its name</td>\n",
              "      <td>0</td>\n",
              "      <td>0.006575</td>\n",
              "      <td>0</td>\n",
              "    </tr>\n",
              "  </tbody>\n",
              "</table>\n",
              "<p>5572 rows × 5 columns</p>\n",
              "</div>\n",
              "    <div class=\"colab-df-buttons\">\n",
              "\n",
              "  <div class=\"colab-df-container\">\n",
              "    <button class=\"colab-df-convert\" onclick=\"convertToInteractive('df-125dde33-1009-4aba-a1cf-08d05b9657b4')\"\n",
              "            title=\"Convert this dataframe to an interactive table.\"\n",
              "            style=\"display:none;\">\n",
              "\n",
              "  <svg xmlns=\"http://www.w3.org/2000/svg\" height=\"24px\" viewBox=\"0 -960 960 960\">\n",
              "    <path d=\"M120-120v-720h720v720H120Zm60-500h600v-160H180v160Zm220 220h160v-160H400v160Zm0 220h160v-160H400v160ZM180-400h160v-160H180v160Zm440 0h160v-160H620v160ZM180-180h160v-160H180v160Zm440 0h160v-160H620v160Z\"/>\n",
              "  </svg>\n",
              "    </button>\n",
              "\n",
              "  <style>\n",
              "    .colab-df-container {\n",
              "      display:flex;\n",
              "      gap: 12px;\n",
              "    }\n",
              "\n",
              "    .colab-df-convert {\n",
              "      background-color: #E8F0FE;\n",
              "      border: none;\n",
              "      border-radius: 50%;\n",
              "      cursor: pointer;\n",
              "      display: none;\n",
              "      fill: #1967D2;\n",
              "      height: 32px;\n",
              "      padding: 0 0 0 0;\n",
              "      width: 32px;\n",
              "    }\n",
              "\n",
              "    .colab-df-convert:hover {\n",
              "      background-color: #E2EBFA;\n",
              "      box-shadow: 0px 1px 2px rgba(60, 64, 67, 0.3), 0px 1px 3px 1px rgba(60, 64, 67, 0.15);\n",
              "      fill: #174EA6;\n",
              "    }\n",
              "\n",
              "    .colab-df-buttons div {\n",
              "      margin-bottom: 4px;\n",
              "    }\n",
              "\n",
              "    [theme=dark] .colab-df-convert {\n",
              "      background-color: #3B4455;\n",
              "      fill: #D2E3FC;\n",
              "    }\n",
              "\n",
              "    [theme=dark] .colab-df-convert:hover {\n",
              "      background-color: #434B5C;\n",
              "      box-shadow: 0px 1px 3px 1px rgba(0, 0, 0, 0.15);\n",
              "      filter: drop-shadow(0px 1px 2px rgba(0, 0, 0, 0.3));\n",
              "      fill: #FFFFFF;\n",
              "    }\n",
              "  </style>\n",
              "\n",
              "    <script>\n",
              "      const buttonEl =\n",
              "        document.querySelector('#df-125dde33-1009-4aba-a1cf-08d05b9657b4 button.colab-df-convert');\n",
              "      buttonEl.style.display =\n",
              "        google.colab.kernel.accessAllowed ? 'block' : 'none';\n",
              "\n",
              "      async function convertToInteractive(key) {\n",
              "        const element = document.querySelector('#df-125dde33-1009-4aba-a1cf-08d05b9657b4');\n",
              "        const dataTable =\n",
              "          await google.colab.kernel.invokeFunction('convertToInteractive',\n",
              "                                                    [key], {});\n",
              "        if (!dataTable) return;\n",
              "\n",
              "        const docLinkHtml = 'Like what you see? Visit the ' +\n",
              "          '<a target=\"_blank\" href=https://colab.research.google.com/notebooks/data_table.ipynb>data table notebook</a>'\n",
              "          + ' to learn more about interactive tables.';\n",
              "        element.innerHTML = '';\n",
              "        dataTable['output_type'] = 'display_data';\n",
              "        await google.colab.output.renderOutput(dataTable, element);\n",
              "        const docLink = document.createElement('div');\n",
              "        docLink.innerHTML = docLinkHtml;\n",
              "        element.appendChild(docLink);\n",
              "      }\n",
              "    </script>\n",
              "  </div>\n",
              "\n",
              "\n",
              "<div id=\"df-88f4791d-6423-41a9-844e-6215ccb9608b\">\n",
              "  <button class=\"colab-df-quickchart\" onclick=\"quickchart('df-88f4791d-6423-41a9-844e-6215ccb9608b')\"\n",
              "            title=\"Suggest charts.\"\n",
              "            style=\"display:none;\">\n",
              "\n",
              "<svg xmlns=\"http://www.w3.org/2000/svg\" height=\"24px\"viewBox=\"0 0 24 24\"\n",
              "     width=\"24px\">\n",
              "    <g>\n",
              "        <path d=\"M19 3H5c-1.1 0-2 .9-2 2v14c0 1.1.9 2 2 2h14c1.1 0 2-.9 2-2V5c0-1.1-.9-2-2-2zM9 17H7v-7h2v7zm4 0h-2V7h2v10zm4 0h-2v-4h2v4z\"/>\n",
              "    </g>\n",
              "</svg>\n",
              "  </button>\n",
              "\n",
              "<style>\n",
              "  .colab-df-quickchart {\n",
              "      --bg-color: #E8F0FE;\n",
              "      --fill-color: #1967D2;\n",
              "      --hover-bg-color: #E2EBFA;\n",
              "      --hover-fill-color: #174EA6;\n",
              "      --disabled-fill-color: #AAA;\n",
              "      --disabled-bg-color: #DDD;\n",
              "  }\n",
              "\n",
              "  [theme=dark] .colab-df-quickchart {\n",
              "      --bg-color: #3B4455;\n",
              "      --fill-color: #D2E3FC;\n",
              "      --hover-bg-color: #434B5C;\n",
              "      --hover-fill-color: #FFFFFF;\n",
              "      --disabled-bg-color: #3B4455;\n",
              "      --disabled-fill-color: #666;\n",
              "  }\n",
              "\n",
              "  .colab-df-quickchart {\n",
              "    background-color: var(--bg-color);\n",
              "    border: none;\n",
              "    border-radius: 50%;\n",
              "    cursor: pointer;\n",
              "    display: none;\n",
              "    fill: var(--fill-color);\n",
              "    height: 32px;\n",
              "    padding: 0;\n",
              "    width: 32px;\n",
              "  }\n",
              "\n",
              "  .colab-df-quickchart:hover {\n",
              "    background-color: var(--hover-bg-color);\n",
              "    box-shadow: 0 1px 2px rgba(60, 64, 67, 0.3), 0 1px 3px 1px rgba(60, 64, 67, 0.15);\n",
              "    fill: var(--button-hover-fill-color);\n",
              "  }\n",
              "\n",
              "  .colab-df-quickchart-complete:disabled,\n",
              "  .colab-df-quickchart-complete:disabled:hover {\n",
              "    background-color: var(--disabled-bg-color);\n",
              "    fill: var(--disabled-fill-color);\n",
              "    box-shadow: none;\n",
              "  }\n",
              "\n",
              "  .colab-df-spinner {\n",
              "    border: 2px solid var(--fill-color);\n",
              "    border-color: transparent;\n",
              "    border-bottom-color: var(--fill-color);\n",
              "    animation:\n",
              "      spin 1s steps(1) infinite;\n",
              "  }\n",
              "\n",
              "  @keyframes spin {\n",
              "    0% {\n",
              "      border-color: transparent;\n",
              "      border-bottom-color: var(--fill-color);\n",
              "      border-left-color: var(--fill-color);\n",
              "    }\n",
              "    20% {\n",
              "      border-color: transparent;\n",
              "      border-left-color: var(--fill-color);\n",
              "      border-top-color: var(--fill-color);\n",
              "    }\n",
              "    30% {\n",
              "      border-color: transparent;\n",
              "      border-left-color: var(--fill-color);\n",
              "      border-top-color: var(--fill-color);\n",
              "      border-right-color: var(--fill-color);\n",
              "    }\n",
              "    40% {\n",
              "      border-color: transparent;\n",
              "      border-right-color: var(--fill-color);\n",
              "      border-top-color: var(--fill-color);\n",
              "    }\n",
              "    60% {\n",
              "      border-color: transparent;\n",
              "      border-right-color: var(--fill-color);\n",
              "    }\n",
              "    80% {\n",
              "      border-color: transparent;\n",
              "      border-right-color: var(--fill-color);\n",
              "      border-bottom-color: var(--fill-color);\n",
              "    }\n",
              "    90% {\n",
              "      border-color: transparent;\n",
              "      border-bottom-color: var(--fill-color);\n",
              "    }\n",
              "  }\n",
              "</style>\n",
              "\n",
              "  <script>\n",
              "    async function quickchart(key) {\n",
              "      const quickchartButtonEl =\n",
              "        document.querySelector('#' + key + ' button');\n",
              "      quickchartButtonEl.disabled = true;  // To prevent multiple clicks.\n",
              "      quickchartButtonEl.classList.add('colab-df-spinner');\n",
              "      try {\n",
              "        const charts = await google.colab.kernel.invokeFunction(\n",
              "            'suggestCharts', [key], {});\n",
              "      } catch (error) {\n",
              "        console.error('Error during call to suggestCharts:', error);\n",
              "      }\n",
              "      quickchartButtonEl.classList.remove('colab-df-spinner');\n",
              "      quickchartButtonEl.classList.add('colab-df-quickchart-complete');\n",
              "    }\n",
              "    (() => {\n",
              "      let quickchartButtonEl =\n",
              "        document.querySelector('#df-88f4791d-6423-41a9-844e-6215ccb9608b button');\n",
              "      quickchartButtonEl.style.display =\n",
              "        google.colab.kernel.accessAllowed ? 'block' : 'none';\n",
              "    })();\n",
              "  </script>\n",
              "</div>\n",
              "    </div>\n",
              "  </div>\n"
            ]
          },
          "metadata": {},
          "execution_count": 49
        }
      ]
    },
    {
      "cell_type": "code",
      "source": [],
      "metadata": {
        "id": "xODldUHlJg1G"
      },
      "execution_count": null,
      "outputs": []
    }
  ]
}