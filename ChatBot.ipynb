{
 "cells": [
  {
   "cell_type": "markdown",
   "id": "6d63d071",
   "metadata": {},
   "source": [
    "## ChatBot"
   ]
  },
  {
   "cell_type": "code",
   "execution_count": 5,
   "id": "bfb0cbb6",
   "metadata": {},
   "outputs": [],
   "source": [
    "from nltk.chat.util import reflections, Chat"
   ]
  },
  {
   "cell_type": "code",
   "execution_count": 6,
   "id": "1a518dbc",
   "metadata": {},
   "outputs": [
    {
     "data": {
      "text/plain": [
       "{'i am': 'you are',\n",
       " 'i was': 'you were',\n",
       " 'i': 'you',\n",
       " \"i'm\": 'you are',\n",
       " \"i'd\": 'you would',\n",
       " \"i've\": 'you have',\n",
       " \"i'll\": 'you will',\n",
       " 'my': 'your',\n",
       " 'you are': 'I am',\n",
       " 'you were': 'I was',\n",
       " \"you've\": 'I have',\n",
       " \"you'll\": 'I will',\n",
       " 'your': 'my',\n",
       " 'yours': 'mine',\n",
       " 'you': 'me',\n",
       " 'me': 'you'}"
      ]
     },
     "execution_count": 6,
     "metadata": {},
     "output_type": "execute_result"
    }
   ],
   "source": [
    "reflections"
   ]
  },
  {
   "cell_type": "code",
   "execution_count": 8,
   "id": "808d8740",
   "metadata": {},
   "outputs": [
    {
     "data": {
      "text/plain": [
       "nltk.chat.util.Chat"
      ]
     },
     "execution_count": 8,
     "metadata": {},
     "output_type": "execute_result"
    }
   ],
   "source": [
    "Chat  # Just a util"
   ]
  },
  {
   "cell_type": "code",
   "execution_count": 21,
   "id": "42a53322",
   "metadata": {},
   "outputs": [],
   "source": [
    "pairs = [\n",
    "    [ \n",
    "        r\"(.*) plan (.*) \",\n",
    "        ['We have 249 rs per month plan',]\n",
    "    ],\n",
    "\n",
    "    [\n",
    "        r\"(.*)help(.*)\",\n",
    "        ['I can help you']\n",
    "    ],\n",
    "\n",
    "    [\n",
    "        r\"(.*) your name ?\",\n",
    "        [\"My name is chitti and i'm chatbot\"]\n",
    "    ],\n",
    "\n",
    "    [\n",
    "        r\"how are you (.*) ?\",\n",
    "        [\"I'm doing very well\", \"i am great!\", \"I am very cool!\"]\n",
    "    ],\n",
    "\n",
    "    [\n",
    "        r\"sorry(.*)\",\n",
    "        [\"Its alright\", \"Its OK\", \"Never Mind that\",]\n",
    "    ],\n",
    "\n",
    "    [\n",
    "        r\"(hi|hey|hello|hola|holla)(.*)\",\n",
    "        [\"Hello\", \"Hey there\",]\n",
    "    ],\n",
    "\n",
    "    [\n",
    "        r\"what (.*) want ?\",\n",
    "        [\"I want to learn Natural Language Processing\"]    \n",
    "    ],\n",
    "\n",
    "    [\n",
    "        r\"(.*)created(.*)\",\n",
    "        [\"Shankar created me using Python's NLTK library\",\"top secret;)\",]\n",
    "    ],\n",
    "\n",
    "    [\n",
    "        r\"(.*)(location|city) ?\",\n",
    "        ['Bengaluru', 'India',]\n",
    "    ],\n",
    "\n",
    "    [\n",
    "        r\"(.*) raining in (.*)\",\n",
    "        [\"No rain in the past 4 days here in %2\", \"In %2 there is a 50% chance of rain\",]    \n",
    "    ],\n",
    "\n",
    "    [\n",
    "        r\"how (.*) health (.*)\",\n",
    "        [\"Health is very important, but i am a computer, so I don't need to worry about my health\" ]\n",
    "    ],\n",
    "\n",
    "    [\n",
    "        r\"(.*)(Sports|game|sport)(.*)\",\n",
    "        [\"I'm a very big fan of Football,\"]   \n",
    "    ],\n",
    "\n",
    "    [\n",
    "        r\"who (.*) (player|striker|forward)?\",\n",
    "        [\"Harry Kane\"]\n",
    "    ],\n",
    "\n",
    "    [\n",
    "        r\"quit\",\n",
    "        [\"Bye for now, See you soon :) \" , \"It was nice talking to you. See you soon:)\"]\n",
    "    ],\n",
    "\n",
    "    [\n",
    "        r\"(.*)\",\n",
    "        ['I did not get that, please searh in http://google.com', 'do you mean admission']\n",
    "\n",
    "    ],\n",
    "    \n",
    "]"
   ]
  },
  {
   "cell_type": "code",
   "execution_count": 22,
   "id": "241aec79",
   "metadata": {},
   "outputs": [
    {
     "name": "stdout",
     "output_type": "stream",
     "text": [
      "Hi, I'm Chitti and I like to chat \n",
      " Please type lowercase English language to start a conversation. Type quite to leave \n"
     ]
    }
   ],
   "source": [
    "# Default message at the start of that\n",
    "print(\"Hi, I'm Chitti and I like to chat \\n Please type lowercase English language to start a conversation. Type quite to leave \")\n",
    "\n",
    "# Create Chat Bot\n",
    "chat = Chat(pairs, reflections)"
   ]
  },
  {
   "cell_type": "code",
   "execution_count": null,
   "id": "c2f1bdec",
   "metadata": {},
   "outputs": [
    {
     "name": "stdout",
     "output_type": "stream",
     "text": [
      ">natural language processing \n",
      "I did not get that, please searh in http://google.com\n",
      ">done\n",
      "do you mean admission\n",
      ">what do you want from me ?\n",
      "I want to learn Natural Language Processing\n",
      ">hellw\n",
      "do you mean admission\n",
      ">hello\n",
      "Hello\n",
      ">hello\n",
      "Hello\n",
      ">hello\n",
      "Hey there\n",
      ">hello\n",
      "Hey there\n"
     ]
    }
   ],
   "source": [
    "chat.converse()"
   ]
  },
  {
   "cell_type": "code",
   "execution_count": null,
   "id": "bd3c0b9e",
   "metadata": {},
   "outputs": [],
   "source": []
  }
 ],
 "metadata": {
  "kernelspec": {
   "display_name": "Python 3 (ipykernel)",
   "language": "python",
   "name": "python3"
  },
  "language_info": {
   "codemirror_mode": {
    "name": "ipython",
    "version": 3
   },
   "file_extension": ".py",
   "mimetype": "text/x-python",
   "name": "python",
   "nbconvert_exporter": "python",
   "pygments_lexer": "ipython3",
   "version": "3.9.0"
  }
 },
 "nbformat": 4,
 "nbformat_minor": 5
}
