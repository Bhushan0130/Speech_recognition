{
 "cells": [
  {
   "cell_type": "markdown",
   "id": "acfb0b31",
   "metadata": {},
   "source": [
    "## Translate and Language Detection"
   ]
  },
  {
   "cell_type": "markdown",
   "id": "b029b321",
   "metadata": {},
   "source": [
    "TextBlobs can be translated between languages"
   ]
  },
  {
   "cell_type": "code",
   "execution_count": 5,
   "id": "d01cb441",
   "metadata": {},
   "outputs": [],
   "source": [
    "# !pip install textblob"
   ]
  },
  {
   "cell_type": "code",
   "execution_count": 1,
   "id": "f0114ecc",
   "metadata": {},
   "outputs": [],
   "source": [
    "from textblob import TextBlob"
   ]
  },
  {
   "cell_type": "code",
   "execution_count": 2,
   "id": "69c99309",
   "metadata": {},
   "outputs": [
    {
     "data": {
      "text/plain": [
       "TextBlob(\"सभी को शुभकामनाएं\")"
      ]
     },
     "execution_count": 2,
     "metadata": {},
     "output_type": "execute_result"
    }
   ],
   "source": [
    "blob = TextBlob('Good wishes to all')\n",
    "blob.translate(to = 'hi')"
   ]
  },
  {
   "cell_type": "markdown",
   "id": "f716f291",
   "metadata": {},
   "source": [
    " If no source language is specified, TextBlob will attempt to detect the language. You can specify the source language explicity, like so. Raises TranslatorError if the TextBlob cannot be translated into the requested language or NotTranslated if the translated result is the same as the input string"
   ]
  },
  {
   "cell_type": "code",
   "execution_count": 9,
   "id": "f99c12f0",
   "metadata": {},
   "outputs": [
    {
     "data": {
      "text/plain": [
       "TextBlob(\"有总比没有好\")"
      ]
     },
     "execution_count": 9,
     "metadata": {},
     "output_type": "execute_result"
    }
   ],
   "source": [
    "blob = TextBlob(u'Something is better than nothing')\n",
    "blob.translate(to = 'zh-CN')"
   ]
  },
  {
   "cell_type": "code",
   "execution_count": 10,
   "id": "84b72858",
   "metadata": {},
   "outputs": [
    {
     "data": {
      "text/plain": [
       "TextBlob(\"आज जलवायु बहुत गर्म है\")"
      ]
     },
     "execution_count": 10,
     "metadata": {},
     "output_type": "execute_result"
    }
   ],
   "source": [
    "blob = TextBlob(u'Todays climate is very hot')\n",
    "blob.translate(to = 'hi')"
   ]
  },
  {
   "cell_type": "code",
   "execution_count": 12,
   "id": "e02dde5a",
   "metadata": {},
   "outputs": [
    {
     "data": {
      "text/plain": [
       "TextBlob(\"चीनी\")"
      ]
     },
     "execution_count": 12,
     "metadata": {},
     "output_type": "execute_result"
    }
   ],
   "source": [
    "chinese_blob = TextBlob(u'漢語')\n",
    "chinese_blob.translate(to = 'hi')"
   ]
  },
  {
   "cell_type": "code",
   "execution_count": 13,
   "id": "45de333a",
   "metadata": {},
   "outputs": [],
   "source": [
    "# You can also attempt to detect a TextBlob's Language using TextBlob.detect_language()"
   ]
  },
  {
   "cell_type": "code",
   "execution_count": 14,
   "id": "64a429b6",
   "metadata": {},
   "outputs": [
    {
     "data": {
      "text/plain": [
       "TextBlob(\"Today the climate is very hot\")"
      ]
     },
     "execution_count": 14,
     "metadata": {},
     "output_type": "execute_result"
    }
   ],
   "source": [
    "d = TextBlob('आज जलवायु बहुत गर्म है')\n",
    "d.translate('hi')"
   ]
  },
  {
   "cell_type": "code",
   "execution_count": 15,
   "id": "2a777f6c",
   "metadata": {},
   "outputs": [],
   "source": [
    "# To idenfy the languge"
   ]
  },
  {
   "cell_type": "code",
   "execution_count": 19,
   "id": "8b447699",
   "metadata": {},
   "outputs": [],
   "source": [
    "d = TextBlob('आज जलवायु बहुत गर्म है')\n",
    "d.detect_language()"
   ]
  },
  {
   "cell_type": "code",
   "execution_count": 18,
   "id": "24c1c666",
   "metadata": {},
   "outputs": [],
   "source": [
    "# b = TextBlob(\"bonjour\")\n",
    "# b.detect_language()"
   ]
  },
  {
   "cell_type": "code",
   "execution_count": null,
   "id": "09aff782",
   "metadata": {},
   "outputs": [],
   "source": []
  }
 ],
 "metadata": {
  "kernelspec": {
   "display_name": "Python 3 (ipykernel)",
   "language": "python",
   "name": "python3"
  },
  "language_info": {
   "codemirror_mode": {
    "name": "ipython",
    "version": 3
   },
   "file_extension": ".py",
   "mimetype": "text/x-python",
   "name": "python",
   "nbconvert_exporter": "python",
   "pygments_lexer": "ipython3",
   "version": "3.9.0"
  }
 },
 "nbformat": 4,
 "nbformat_minor": 5
}
