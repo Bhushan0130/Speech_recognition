{
 "cells": [
  {
   "cell_type": "markdown",
   "id": "f9fa6454",
   "metadata": {},
   "source": [
    "## Speech to Text"
   ]
  },
  {
   "cell_type": "code",
   "execution_count": 1,
   "id": "a5297011",
   "metadata": {},
   "outputs": [],
   "source": [
    "# !python -m pip install pyaudio\n",
    "\n",
    "# !pip install SpeechRecognition\n",
    "# import pyaudio\n",
    "\n",
    "# !pip install pipwin\n",
    "# !pipwin install pyaudio\n"
   ]
  },
  {
   "cell_type": "code",
   "execution_count": 2,
   "id": "e56b2a2d",
   "metadata": {},
   "outputs": [],
   "source": [
    "import speech_recognition as sr"
   ]
  },
  {
   "cell_type": "code",
   "execution_count": 5,
   "id": "7dbfc4ac",
   "metadata": {},
   "outputs": [
    {
     "name": "stdout",
     "output_type": "stream",
     "text": [
      "Start Talking\n",
      "Here is your converted text below....\n",
      "hello kya likhna hai\n"
     ]
    }
   ],
   "source": [
    "r = sr.Recognizer()\n",
    "\n",
    "# Reading Microphone as source\n",
    "# Listening the speech and store in audio_text variable\n",
    "\n",
    "with sr.Microphone() as source:\n",
    "    print('Start Talking')\n",
    "    audio_text = r.listen(source)\n",
    "    print('Here is your converted text below....')\n",
    "    \n",
    "# Recognize_() method will throw a request error if the API is unreachable, hence using exception handing \n",
    "\n",
    "    try:\n",
    "        # Using google search recognition\n",
    "        speech_2_text = r.recognize_R google(audio_text)\n",
    "        print(speech_2_text)\n",
    "    \n",
    "    except:\n",
    "        print('Sorry, I did not get that')"
   ]
  },
  {
   "cell_type": "markdown",
   "id": "9189d282",
   "metadata": {},
   "source": [
    "### How to write in the document?\n",
    "##### Let's Work on file operation to create and write data in the document"
   ]
  },
  {
   "cell_type": "code",
   "execution_count": 4,
   "id": "cd446203",
   "metadata": {},
   "outputs": [],
   "source": [
    "\n",
    "# Open new file with write mode\n",
    "f = open(\"Audio_file1.doc\", \"w\")\n",
    "\n",
    "# Write the recorded content into the file\n",
    "f.write(speech_2_text)\n",
    "\n",
    "# Close the file\n",
    "f.close()"
   ]
  },
  {
   "cell_type": "code",
   "execution_count": null,
   "id": "eb461347",
   "metadata": {},
   "outputs": [],
   "source": []
  },
  {
   "cell_type": "code",
   "execution_count": null,
   "id": "1f45cb23",
   "metadata": {},
   "outputs": [],
   "source": []
  },
  {
   "cell_type": "markdown",
   "id": "788c871d",
   "metadata": {},
   "source": [
    "## Convert any language to your native language and vice versa."
   ]
  },
  {
   "cell_type": "code",
   "execution_count": 33,
   "id": "813770bf",
   "metadata": {},
   "outputs": [],
   "source": [
    "import speech_recognition as sr\n",
    "from textblob import TextBlob\n",
    "r = sr.Recognizer()"
   ]
  },
  {
   "cell_type": "code",
   "execution_count": 35,
   "id": "fb7effd8",
   "metadata": {},
   "outputs": [
    {
     "name": "stdout",
     "output_type": "stream",
     "text": [
      "Keep Talking\n",
      "Here is your converted Text Below...\n",
      "हैलो इस दुनिया में आपका स्वागत है\n"
     ]
    }
   ],
   "source": [
    "# Reading Microphone as source\n",
    "# Listening the speech and store in audio_text variable\n",
    "\n",
    "with sr.Microphone() as source:\n",
    "    print('Keep Talking')\n",
    "    audio_text = r.listen(source)\n",
    "    print('Here is your converted Text Below...')\n",
    "    \n",
    "    try :\n",
    "        text = r.recognize_google(audio_text, language='en')\n",
    "        blob = TextBlob(text)\n",
    "        print(blob.translate(to = 'hi'))\n",
    "        \n",
    "    except:\n",
    "        print('Sorry, I did not get this')"
   ]
  },
  {
   "cell_type": "code",
   "execution_count": null,
   "id": "2ac5a5bb",
   "metadata": {},
   "outputs": [],
   "source": []
  }
 ],
 "metadata": {
  "kernelspec": {
   "display_name": "Python 3 (ipykernel)",
   "language": "python",
   "name": "python3"
  },
  "language_info": {
   "codemirror_mode": {
    "name": "ipython",
    "version": 3
   },
   "file_extension": ".py",
   "mimetype": "text/x-python",
   "name": "python",
   "nbconvert_exporter": "python",
   "pygments_lexer": "ipython3",
   "version": "3.9.0"
  }
 },
 "nbformat": 4,
 "nbformat_minor": 5
}
