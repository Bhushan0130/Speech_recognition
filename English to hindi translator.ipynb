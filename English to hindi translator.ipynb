{
 "cells": [
  {
   "cell_type": "markdown",
   "id": "4385369d",
   "metadata": {},
   "source": [
    "## English to hindi Translator"
   ]
  },
  {
   "cell_type": "code",
   "execution_count": 5,
   "id": "0d0a8f61",
   "metadata": {},
   "outputs": [],
   "source": [
    "from textblob import TextBlob"
   ]
  },
  {
   "cell_type": "code",
   "execution_count": 1,
   "id": "4b598bfa",
   "metadata": {},
   "outputs": [],
   "source": [
    "import speech_recognition as sr\n",
    "r1 = sr.Recognizer()"
   ]
  },
  {
   "cell_type": "code",
   "execution_count": 8,
   "id": "616d74ef",
   "metadata": {},
   "outputs": [
    {
     "name": "stdout",
     "output_type": "stream",
     "text": [
      "Please say something in english\n",
      "Converting ... \n",
      "English:\n",
      " hello welcome to this world\n",
      "Hindi conversion:\n",
      " हैलो इस दुनिया में आपका स्वागत है\n"
     ]
    }
   ],
   "source": [
    "with sr.Microphone() as source:\n",
    "    print('Please say something in english')\n",
    "    speech = r1.listen(source)\n",
    "    print('Converting ... ')\n",
    "    try:\n",
    "        speech_to_text = r1.recognize_google(speech)\n",
    "        print(\"English:\\n\",speech_to_text  )\n",
    "        blob = TextBlob(speech_to_text)\n",
    "        translated = blob.translate(to = 'hi')\n",
    "        print('Hindi conversion:\\n',translated)\n",
    "        \n",
    "    except:\n",
    "        print('Please say something to convert into Hindi')"
   ]
  },
  {
   "cell_type": "code",
   "execution_count": null,
   "id": "23ccc83a",
   "metadata": {},
   "outputs": [],
   "source": []
  },
  {
   "cell_type": "code",
   "execution_count": null,
   "id": "406410ca",
   "metadata": {},
   "outputs": [],
   "source": []
  },
  {
   "cell_type": "code",
   "execution_count": null,
   "id": "351511e8",
   "metadata": {},
   "outputs": [],
   "source": []
  }
 ],
 "metadata": {
  "kernelspec": {
   "display_name": "Python 3 (ipykernel)",
   "language": "python",
   "name": "python3"
  },
  "language_info": {
   "codemirror_mode": {
    "name": "ipython",
    "version": 3
   },
   "file_extension": ".py",
   "mimetype": "text/x-python",
   "name": "python",
   "nbconvert_exporter": "python",
   "pygments_lexer": "ipython3",
   "version": "3.9.0"
  }
 },
 "nbformat": 4,
 "nbformat_minor": 5
}
